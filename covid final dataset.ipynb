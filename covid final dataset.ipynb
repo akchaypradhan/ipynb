{
 "cells": [
  {
   "cell_type": "markdown",
   "metadata": {},
   "source": [
    "# covid data analysis"
   ]
  },
  {
   "cell_type": "code",
   "execution_count": 1,
   "metadata": {},
   "outputs": [],
   "source": [
    "import pandas as pd\n",
    "import numpy as np\n",
    "import matplotlib.pyplot as plt\n",
    "import seaborn as sns\n",
    "import warnings\n",
    "warnings.filterwarnings('ignore')"
   ]
  },
  {
   "cell_type": "code",
   "execution_count": 2,
   "metadata": {},
   "outputs": [
    {
     "data": {
      "text/html": [
       "<div>\n",
       "<style scoped>\n",
       "    .dataframe tbody tr th:only-of-type {\n",
       "        vertical-align: middle;\n",
       "    }\n",
       "\n",
       "    .dataframe tbody tr th {\n",
       "        vertical-align: top;\n",
       "    }\n",
       "\n",
       "    .dataframe thead th {\n",
       "        text-align: right;\n",
       "    }\n",
       "</style>\n",
       "<table border=\"1\" class=\"dataframe\">\n",
       "  <thead>\n",
       "    <tr style=\"text-align: right;\">\n",
       "      <th></th>\n",
       "      <th>Date</th>\n",
       "      <th>Country</th>\n",
       "      <th>Confirmed</th>\n",
       "      <th>Recovered</th>\n",
       "      <th>Deaths</th>\n",
       "    </tr>\n",
       "  </thead>\n",
       "  <tbody>\n",
       "    <tr>\n",
       "      <th>0</th>\n",
       "      <td>2020-01-22</td>\n",
       "      <td>Afghanistan</td>\n",
       "      <td>0</td>\n",
       "      <td>0</td>\n",
       "      <td>0</td>\n",
       "    </tr>\n",
       "    <tr>\n",
       "      <th>1</th>\n",
       "      <td>2020-01-22</td>\n",
       "      <td>Albania</td>\n",
       "      <td>0</td>\n",
       "      <td>0</td>\n",
       "      <td>0</td>\n",
       "    </tr>\n",
       "    <tr>\n",
       "      <th>2</th>\n",
       "      <td>2020-01-22</td>\n",
       "      <td>Algeria</td>\n",
       "      <td>0</td>\n",
       "      <td>0</td>\n",
       "      <td>0</td>\n",
       "    </tr>\n",
       "    <tr>\n",
       "      <th>3</th>\n",
       "      <td>2020-01-22</td>\n",
       "      <td>Andorra</td>\n",
       "      <td>0</td>\n",
       "      <td>0</td>\n",
       "      <td>0</td>\n",
       "    </tr>\n",
       "    <tr>\n",
       "      <th>4</th>\n",
       "      <td>2020-01-22</td>\n",
       "      <td>Angola</td>\n",
       "      <td>0</td>\n",
       "      <td>0</td>\n",
       "      <td>0</td>\n",
       "    </tr>\n",
       "    <tr>\n",
       "      <th>5</th>\n",
       "      <td>2020-01-22</td>\n",
       "      <td>Antigua and Barbuda</td>\n",
       "      <td>0</td>\n",
       "      <td>0</td>\n",
       "      <td>0</td>\n",
       "    </tr>\n",
       "    <tr>\n",
       "      <th>6</th>\n",
       "      <td>2020-01-22</td>\n",
       "      <td>Argentina</td>\n",
       "      <td>0</td>\n",
       "      <td>0</td>\n",
       "      <td>0</td>\n",
       "    </tr>\n",
       "    <tr>\n",
       "      <th>7</th>\n",
       "      <td>2020-01-22</td>\n",
       "      <td>Armenia</td>\n",
       "      <td>0</td>\n",
       "      <td>0</td>\n",
       "      <td>0</td>\n",
       "    </tr>\n",
       "    <tr>\n",
       "      <th>8</th>\n",
       "      <td>2020-01-22</td>\n",
       "      <td>Australia</td>\n",
       "      <td>0</td>\n",
       "      <td>0</td>\n",
       "      <td>0</td>\n",
       "    </tr>\n",
       "    <tr>\n",
       "      <th>9</th>\n",
       "      <td>2020-01-22</td>\n",
       "      <td>Austria</td>\n",
       "      <td>0</td>\n",
       "      <td>0</td>\n",
       "      <td>0</td>\n",
       "    </tr>\n",
       "  </tbody>\n",
       "</table>\n",
       "</div>"
      ],
      "text/plain": [
       "         Date              Country  Confirmed  Recovered  Deaths\n",
       "0  2020-01-22          Afghanistan          0          0       0\n",
       "1  2020-01-22              Albania          0          0       0\n",
       "2  2020-01-22              Algeria          0          0       0\n",
       "3  2020-01-22              Andorra          0          0       0\n",
       "4  2020-01-22               Angola          0          0       0\n",
       "5  2020-01-22  Antigua and Barbuda          0          0       0\n",
       "6  2020-01-22            Argentina          0          0       0\n",
       "7  2020-01-22              Armenia          0          0       0\n",
       "8  2020-01-22            Australia          0          0       0\n",
       "9  2020-01-22              Austria          0          0       0"
      ]
     },
     "execution_count": 2,
     "metadata": {},
     "output_type": "execute_result"
    }
   ],
   "source": [
    "df=pd.read_csv('covid_csv')\n",
    "df.head(10)"
   ]
  },
  {
   "cell_type": "code",
   "execution_count": 3,
   "metadata": {},
   "outputs": [
    {
     "data": {
      "text/plain": [
       "(23688, 5)"
      ]
     },
     "execution_count": 3,
     "metadata": {},
     "output_type": "execute_result"
    }
   ],
   "source": [
    "df.shape"
   ]
  },
  {
   "cell_type": "code",
   "execution_count": 4,
   "metadata": {},
   "outputs": [
    {
     "data": {
      "text/plain": [
       "Date         object\n",
       "Country      object\n",
       "Confirmed     int64\n",
       "Recovered     int64\n",
       "Deaths        int64\n",
       "dtype: object"
      ]
     },
     "execution_count": 4,
     "metadata": {},
     "output_type": "execute_result"
    }
   ],
   "source": [
    "df.dtypes"
   ]
  },
  {
   "cell_type": "code",
   "execution_count": 5,
   "metadata": {},
   "outputs": [
    {
     "name": "stdout",
     "output_type": "stream",
     "text": [
      "<class 'pandas.core.frame.DataFrame'>\n",
      "RangeIndex: 23688 entries, 0 to 23687\n",
      "Data columns (total 5 columns):\n",
      " #   Column     Non-Null Count  Dtype \n",
      "---  ------     --------------  ----- \n",
      " 0   Date       23688 non-null  object\n",
      " 1   Country    23688 non-null  object\n",
      " 2   Confirmed  23688 non-null  int64 \n",
      " 3   Recovered  23688 non-null  int64 \n",
      " 4   Deaths     23688 non-null  int64 \n",
      "dtypes: int64(3), object(2)\n",
      "memory usage: 925.4+ KB\n"
     ]
    }
   ],
   "source": [
    "df.info()"
   ]
  },
  {
   "cell_type": "code",
   "execution_count": 6,
   "metadata": {},
   "outputs": [
    {
     "data": {
      "text/plain": [
       "Index(['Date', 'Country', 'Confirmed', 'Recovered', 'Deaths'], dtype='object')"
      ]
     },
     "execution_count": 6,
     "metadata": {},
     "output_type": "execute_result"
    }
   ],
   "source": [
    "df.columns"
   ]
  },
  {
   "cell_type": "code",
   "execution_count": 7,
   "metadata": {},
   "outputs": [
    {
     "data": {
      "text/plain": [
       "Date         0\n",
       "Country      0\n",
       "Confirmed    0\n",
       "Recovered    0\n",
       "Deaths       0\n",
       "dtype: int64"
      ]
     },
     "execution_count": 7,
     "metadata": {},
     "output_type": "execute_result"
    }
   ],
   "source": [
    "df.isnull().sum()"
   ]
  },
  {
   "cell_type": "raw",
   "metadata": {},
   "source": [
    "there is no null values in the covid dataset"
   ]
  },
  {
   "cell_type": "markdown",
   "metadata": {},
   "source": [
    "describing null values in graphical representation"
   ]
  },
  {
   "cell_type": "code",
   "execution_count": 8,
   "metadata": {},
   "outputs": [
    {
     "data": {
      "text/plain": [
       "<matplotlib.axes._subplots.AxesSubplot at 0x16d6accf100>"
      ]
     },
     "execution_count": 8,
     "metadata": {},
     "output_type": "execute_result"
    },
    {
     "data": {
      "image/png": "[encoded data removed]",
      "text/plain": [
       "<Figure size 432x288 with 2 Axes>"
      ]
     },
     "metadata": {
      "needs_background": "light"
     },
     "output_type": "display_data"
    }
   ],
   "source": [
    "sns.heatmap(df.isnull())"
   ]
  },
  {
   "cell_type": "code",
   "execution_count": 9,
   "metadata": {},
   "outputs": [
    {
     "data": {
      "text/html": [
       "<div>\n",
       "<style scoped>\n",
       "    .dataframe tbody tr th:only-of-type {\n",
       "        vertical-align: middle;\n",
       "    }\n",
       "\n",
       "    .dataframe tbody tr th {\n",
       "        vertical-align: top;\n",
       "    }\n",
       "\n",
       "    .dataframe thead th {\n",
       "        text-align: right;\n",
       "    }\n",
       "</style>\n",
       "<table border=\"1\" class=\"dataframe\">\n",
       "  <thead>\n",
       "    <tr style=\"text-align: right;\">\n",
       "      <th></th>\n",
       "      <th>Confirmed</th>\n",
       "      <th>Recovered</th>\n",
       "      <th>Deaths</th>\n",
       "    </tr>\n",
       "  </thead>\n",
       "  <tbody>\n",
       "    <tr>\n",
       "      <th>count</th>\n",
       "      <td>2.368800e+04</td>\n",
       "      <td>23688.000000</td>\n",
       "      <td>23688.000000</td>\n",
       "    </tr>\n",
       "    <tr>\n",
       "      <th>mean</th>\n",
       "      <td>7.969368e+03</td>\n",
       "      <td>2581.801714</td>\n",
       "      <td>526.935030</td>\n",
       "    </tr>\n",
       "    <tr>\n",
       "      <th>std</th>\n",
       "      <td>5.842109e+04</td>\n",
       "      <td>15143.101257</td>\n",
       "      <td>3992.815956</td>\n",
       "    </tr>\n",
       "    <tr>\n",
       "      <th>min</th>\n",
       "      <td>0.000000e+00</td>\n",
       "      <td>0.000000</td>\n",
       "      <td>0.000000</td>\n",
       "    </tr>\n",
       "    <tr>\n",
       "      <th>25%</th>\n",
       "      <td>0.000000e+00</td>\n",
       "      <td>0.000000</td>\n",
       "      <td>0.000000</td>\n",
       "    </tr>\n",
       "    <tr>\n",
       "      <th>50%</th>\n",
       "      <td>1.800000e+01</td>\n",
       "      <td>1.000000</td>\n",
       "      <td>0.000000</td>\n",
       "    </tr>\n",
       "    <tr>\n",
       "      <th>75%</th>\n",
       "      <td>7.300000e+02</td>\n",
       "      <td>123.000000</td>\n",
       "      <td>13.000000</td>\n",
       "    </tr>\n",
       "    <tr>\n",
       "      <th>max</th>\n",
       "      <td>1.680913e+06</td>\n",
       "      <td>384902.000000</td>\n",
       "      <td>98913.000000</td>\n",
       "    </tr>\n",
       "  </tbody>\n",
       "</table>\n",
       "</div>"
      ],
      "text/plain": [
       "          Confirmed      Recovered        Deaths\n",
       "count  2.368800e+04   23688.000000  23688.000000\n",
       "mean   7.969368e+03    2581.801714    526.935030\n",
       "std    5.842109e+04   15143.101257   3992.815956\n",
       "min    0.000000e+00       0.000000      0.000000\n",
       "25%    0.000000e+00       0.000000      0.000000\n",
       "50%    1.800000e+01       1.000000      0.000000\n",
       "75%    7.300000e+02     123.000000     13.000000\n",
       "max    1.680913e+06  384902.000000  98913.000000"
      ]
     },
     "execution_count": 9,
     "metadata": {},
     "output_type": "execute_result"
    }
   ],
   "source": [
    "df.describe()"
   ]
  },
  {
   "cell_type": "raw",
   "metadata": {},
   "source": [
    "confiremed cases\n",
    "count=2.368800e+04\n",
    "mean=7.969368e+03\n",
    "std= 5.842109e+04\n",
    "min=0.000000e+00\n",
    "max=1.680913e+06\n",
    "\n",
    "recovered of covid\n",
    "count=23688.000000\n",
    "mean=2581.801714\n",
    "std=15143.101257\n",
    "min=0.000000\n",
    "max=384902.000000\n",
    "\n",
    "deaths due to covid\n",
    "count=23688.000000\n",
    "mean=526.935030\n",
    "std=3992.815956\n",
    "min=0.000000\n",
    "max=98913.000000\n"
   ]
  },
  {
   "cell_type": "markdown",
   "metadata": {},
   "source": [
    "# correaltions"
   ]
  },
  {
   "cell_type": "code",
   "execution_count": 10,
   "metadata": {},
   "outputs": [
    {
     "data": {
      "text/html": [
       "<div>\n",
       "<style scoped>\n",
       "    .dataframe tbody tr th:only-of-type {\n",
       "        vertical-align: middle;\n",
       "    }\n",
       "\n",
       "    .dataframe tbody tr th {\n",
       "        vertical-align: top;\n",
       "    }\n",
       "\n",
       "    .dataframe thead th {\n",
       "        text-align: right;\n",
       "    }\n",
       "</style>\n",
       "<table border=\"1\" class=\"dataframe\">\n",
       "  <thead>\n",
       "    <tr style=\"text-align: right;\">\n",
       "      <th></th>\n",
       "      <th>Confirmed</th>\n",
       "      <th>Recovered</th>\n",
       "      <th>Deaths</th>\n",
       "    </tr>\n",
       "  </thead>\n",
       "  <tbody>\n",
       "    <tr>\n",
       "      <th>Confirmed</th>\n",
       "      <td>1.000000</td>\n",
       "      <td>0.810991</td>\n",
       "      <td>0.929718</td>\n",
       "    </tr>\n",
       "    <tr>\n",
       "      <th>Recovered</th>\n",
       "      <td>0.810991</td>\n",
       "      <td>1.000000</td>\n",
       "      <td>0.778094</td>\n",
       "    </tr>\n",
       "    <tr>\n",
       "      <th>Deaths</th>\n",
       "      <td>0.929718</td>\n",
       "      <td>0.778094</td>\n",
       "      <td>1.000000</td>\n",
       "    </tr>\n",
       "  </tbody>\n",
       "</table>\n",
       "</div>"
      ],
      "text/plain": [
       "           Confirmed  Recovered    Deaths\n",
       "Confirmed   1.000000   0.810991  0.929718\n",
       "Recovered   0.810991   1.000000  0.778094\n",
       "Deaths      0.929718   0.778094  1.000000"
      ]
     },
     "execution_count": 10,
     "metadata": {},
     "output_type": "execute_result"
    }
   ],
   "source": [
    "dfcor=df.corr()\n",
    "dfcor"
   ]
  },
  {
   "cell_type": "code",
   "execution_count": 11,
   "metadata": {},
   "outputs": [
    {
     "data": {
      "text/plain": [
       "<matplotlib.axes._subplots.AxesSubplot at 0x16d6b46a880>"
      ]
     },
     "execution_count": 11,
     "metadata": {},
     "output_type": "execute_result"
    },
    {
     "data": {
      "image/png": "[encoded data removed]",
      "text/plain": [
       "<Figure size 432x288 with 2 Axes>"
      ]
     },
     "metadata": {
      "needs_background": "light"
     },
     "output_type": "display_data"
    }
   ],
   "source": [
    "sns.heatmap(dfcor)"
   ]
  },
  {
   "cell_type": "code",
   "execution_count": 12,
   "metadata": {},
   "outputs": [
    {
     "data": {
      "text/plain": [
       "<matplotlib.axes._subplots.AxesSubplot at 0x16d6bb8dd30>"
      ]
     },
     "execution_count": 12,
     "metadata": {},
     "output_type": "execute_result"
    },
    {
     "data": {
      "image/png": "[encoded data removed]",
      "text/plain": [
       "<Figure size 720x432 with 2 Axes>"
      ]
     },
     "metadata": {
      "needs_background": "light"
     },
     "output_type": "display_data"
    }
   ],
   "source": [
    "plt.figure(figsize=(10,6))\n",
    "sns.heatmap(dfcor,cmap='Greens',annot=True)"
   ]
  },
  {
   "cell_type": "raw",
   "metadata": {},
   "source": [
    "there is a huge correlation between deaths and confirmed cases"
   ]
  },
  {
   "cell_type": "markdown",
   "metadata": {},
   "source": [
    "# EDA process"
   ]
  },
  {
   "cell_type": "code",
   "execution_count": 59,
   "metadata": {},
   "outputs": [],
   "source": [
    "import matplotlib.pyplot as plt\n"
   ]
  },
  {
   "cell_type": "raw",
   "metadata": {},
   "source": [
    "biivaraite analysis"
   ]
  },
  {
   "cell_type": "code",
   "execution_count": 14,
   "metadata": {},
   "outputs": [
    {
     "data": {
      "text/plain": [
       "<matplotlib.axes._subplots.AxesSubplot at 0x16d6bc28c70>"
      ]
     },
     "execution_count": 14,
     "metadata": {},
     "output_type": "execute_result"
    },
    {
     "data": {
      "image/png": "[encoded data removed]",
      "text/plain": [
       "<Figure size 432x288 with 1 Axes>"
      ]
     },
     "metadata": {
      "needs_background": "light"
     },
     "output_type": "display_data"
    }
   ],
   "source": [
    "sns.scatterplot(x='Confirmed',y='Deaths',data=df)"
   ]
  },
  {
   "cell_type": "code",
   "execution_count": 15,
   "metadata": {},
   "outputs": [
    {
     "data": {
      "text/plain": [
       "<matplotlib.axes._subplots.AxesSubplot at 0x16d6bc50340>"
      ]
     },
     "execution_count": 15,
     "metadata": {},
     "output_type": "execute_result"
    },
    {
     "data": {
      "image/png": "[encoded data removed]",
      "text/plain": [
       "<Figure size 432x288 with 1 Axes>"
      ]
     },
     "metadata": {
      "needs_background": "light"
     },
     "output_type": "display_data"
    }
   ],
   "source": [
    "sns.scatterplot(x=\t'Recovered',y='Deaths',data=df)"
   ]
  },
  {
   "cell_type": "markdown",
   "metadata": {},
   "source": [
    "# checking outliers"
   ]
  },
  {
   "cell_type": "code",
   "execution_count": 16,
   "metadata": {},
   "outputs": [
    {
     "data": {
      "text/plain": [
       "Index(['Date', 'Country', 'Confirmed', 'Recovered', 'Deaths'], dtype='object')"
      ]
     },
     "execution_count": 16,
     "metadata": {},
     "output_type": "execute_result"
    }
   ],
   "source": [
    "df.columns"
   ]
  },
  {
   "cell_type": "code",
   "execution_count": 17,
   "metadata": {},
   "outputs": [],
   "source": [
    "from sklearn.preprocessing import LabelEncoder\n",
    "labelencoder = LabelEncoder()"
   ]
  },
  {
   "cell_type": "code",
   "execution_count": 18,
   "metadata": {},
   "outputs": [],
   "source": [
    "\n",
    "df.iloc[:,0] = labelencoder.fit_transform(df.iloc[:,0].values)\n",
    "                                        \n",
    "df.iloc[:,1] = labelencoder.fit_transform(df.iloc[:,1].values)"
   ]
  },
  {
   "cell_type": "code",
   "execution_count": 19,
   "metadata": {},
   "outputs": [
    {
     "data": {
      "text/plain": [
       "Date         int32\n",
       "Country      int32\n",
       "Confirmed    int64\n",
       "Recovered    int64\n",
       "Deaths       int64\n",
       "dtype: object"
      ]
     },
     "execution_count": 19,
     "metadata": {},
     "output_type": "execute_result"
    }
   ],
   "source": [
    "df.dtypes"
   ]
  },
  {
   "cell_type": "code",
   "execution_count": 20,
   "metadata": {},
   "outputs": [
    {
     "data": {
      "text/plain": [
       "<matplotlib.axes._subplots.AxesSubplot at 0x16d6be23910>"
      ]
     },
     "execution_count": 20,
     "metadata": {},
     "output_type": "execute_result"
    },
    {
     "data": {
      "image/png": "[encoded data removed]",
      "text/plain": [
       "<Figure size 432x288 with 1 Axes>"
      ]
     },
     "metadata": {
      "needs_background": "light"
     },
     "output_type": "display_data"
    }
   ],
   "source": [
    "df['Date'].plot.box()"
   ]
  },
  {
   "cell_type": "code",
   "execution_count": 21,
   "metadata": {},
   "outputs": [
    {
     "data": {
      "text/plain": [
       "<matplotlib.axes._subplots.AxesSubplot at 0x16d6be8d880>"
      ]
     },
     "execution_count": 21,
     "metadata": {},
     "output_type": "execute_result"
    },
    {
     "data": {
      "image/png": "[encoded data removed]",
      "text/plain": [
       "<Figure size 432x288 with 1 Axes>"
      ]
     },
     "metadata": {
      "needs_background": "light"
     },
     "output_type": "display_data"
    }
   ],
   "source": [
    "df['Country'].plot.box()"
   ]
  },
  {
   "cell_type": "code",
   "execution_count": 22,
   "metadata": {},
   "outputs": [
    {
     "data": {
      "text/plain": [
       "<matplotlib.axes._subplots.AxesSubplot at 0x16d6bee4e20>"
      ]
     },
     "execution_count": 22,
     "metadata": {},
     "output_type": "execute_result"
    },
    {
     "data": {
      "image/png": "[encoded data removed]",
      "text/plain": [
       "<Figure size 432x288 with 1 Axes>"
      ]
     },
     "metadata": {
      "needs_background": "light"
     },
     "output_type": "display_data"
    }
   ],
   "source": [
    "df['Confirmed'].plot.box()"
   ]
  },
  {
   "cell_type": "code",
   "execution_count": 23,
   "metadata": {},
   "outputs": [
    {
     "data": {
      "text/plain": [
       "<matplotlib.axes._subplots.AxesSubplot at 0x16d6bf40f10>"
      ]
     },
     "execution_count": 23,
     "metadata": {},
     "output_type": "execute_result"
    },
    {
     "data": {
      "image/png": "[encoded data removed]",
      "text/plain": [
       "<Figure size 432x288 with 1 Axes>"
      ]
     },
     "metadata": {
      "needs_background": "light"
     },
     "output_type": "display_data"
    }
   ],
   "source": [
    "df['Recovered'].plot.box()"
   ]
  },
  {
   "cell_type": "code",
   "execution_count": 24,
   "metadata": {},
   "outputs": [
    {
     "data": {
      "text/plain": [
       "<matplotlib.axes._subplots.AxesSubplot at 0x16d6bfa2670>"
      ]
     },
     "execution_count": 24,
     "metadata": {},
     "output_type": "execute_result"
    },
    {
     "data": {
      "image/png": "[encoded data removed]",
      "text/plain": [
       "<Figure size 432x288 with 1 Axes>"
      ]
     },
     "metadata": {
      "needs_background": "light"
     },
     "output_type": "display_data"
    }
   ],
   "source": [
    "df['Deaths'].plot.box()"
   ]
  },
  {
   "cell_type": "raw",
   "metadata": {},
   "source": [
    "outliers are present in confirmed, recovered and deaths we will be trating these outliers"
   ]
  },
  {
   "cell_type": "markdown",
   "metadata": {},
   "source": [
    "# skewness"
   ]
  },
  {
   "cell_type": "code",
   "execution_count": 25,
   "metadata": {},
   "outputs": [
    {
     "data": {
      "text/plain": [
       "<bound method Series.any of Date          0.000000\n",
       "Country       0.000000\n",
       "Confirmed    18.674502\n",
       "Recovered    10.662286\n",
       "Deaths       14.218167\n",
       "dtype: float64>"
      ]
     },
     "execution_count": 25,
     "metadata": {},
     "output_type": "execute_result"
    }
   ],
   "source": [
    "df.skew().any"
   ]
  },
  {
   "cell_type": "code",
   "execution_count": 26,
   "metadata": {},
   "outputs": [
    {
     "data": {
      "image/png": "[encoded data removed]",
      "text/plain": [
       "<Figure size 432x288 with 1 Axes>"
      ]
     },
     "metadata": {
      "needs_background": "light"
     },
     "output_type": "display_data"
    }
   ],
   "source": [
    "sns.distplot(df['Country'])\n",
    "plt.show()"
   ]
  },
  {
   "cell_type": "code",
   "execution_count": 27,
   "metadata": {},
   "outputs": [
    {
     "data": {
      "image/png": "[encoded data removed]",
      "text/plain": [
       "<Figure size 432x288 with 1 Axes>"
      ]
     },
     "metadata": {
      "needs_background": "light"
     },
     "output_type": "display_data"
    }
   ],
   "source": [
    "sns.distplot(df['Confirmed'])\n",
    "plt.show()"
   ]
  },
  {
   "cell_type": "code",
   "execution_count": 28,
   "metadata": {},
   "outputs": [
    {
     "data": {
      "image/png": "[encoded data removed]",
      "text/plain": [
       "<Figure size 432x288 with 1 Axes>"
      ]
     },
     "metadata": {
      "needs_background": "light"
     },
     "output_type": "display_data"
    }
   ],
   "source": [
    "sns.distplot(df['Recovered'])\n",
    "plt.show()"
   ]
  },
  {
   "cell_type": "code",
   "execution_count": 29,
   "metadata": {},
   "outputs": [
    {
     "data": {
      "image/png": "[encoded data removed]",
      "text/plain": [
       "<Figure size 432x288 with 1 Axes>"
      ]
     },
     "metadata": {
      "needs_background": "light"
     },
     "output_type": "display_data"
    }
   ],
   "source": [
    "sns.distplot(df['Deaths'])\n",
    "plt.show()"
   ]
  },
  {
   "cell_type": "markdown",
   "metadata": {},
   "source": [
    "# z-score technique"
   ]
  },
  {
   "cell_type": "code",
   "execution_count": 30,
   "metadata": {},
   "outputs": [
    {
     "data": {
      "text/plain": [
       "(23688, 5)"
      ]
     },
     "execution_count": 30,
     "metadata": {},
     "output_type": "execute_result"
    }
   ],
   "source": [
    "from scipy.stats import zscore\n",
    "import numpy as np\n",
    "z=np.abs(zscore(df))\n",
    "z.shape"
   ]
  },
  {
   "cell_type": "code",
   "execution_count": 31,
   "metadata": {},
   "outputs": [
    {
     "name": "stdout",
     "output_type": "stream",
     "text": [
      "(array([ 7932,  8120,  8308,  8496,  8684,  8872,  9060,  9248,  9436,\n",
      "        9624,  9812, 10000, 10188, 10376, 10564, 10752, 10940, 11128,\n",
      "       11316, 11504, 11692, 11880, 12068, 12256, 12444, 12632, 12820,\n",
      "       13008, 13146, 13196, 13245, 13334, 13384, 13433, 13522, 13572,\n",
      "       13621, 13710, 13760, 13809, 13898, 13948, 13997, 14070, 14086,\n",
      "       14136, 14185, 14258, 14274, 14274, 14324, 14373, 14446, 14462,\n",
      "       14462, 14512, 14561, 14634, 14634, 14650, 14650, 14700, 14730,\n",
      "       14749, 14822, 14822, 14838, 14838, 14888, 14914, 14918, 14937,\n",
      "       15010, 15010, 15026, 15026, 15076, 15102, 15106, 15125, 15198,\n",
      "       15198, 15214, 15214, 15264, 15290, 15294, 15313, 15386, 15386,\n",
      "       15402, 15402, 15452, 15478, 15482, 15501, 15574, 15574, 15590,\n",
      "       15590, 15594, 15640, 15666, 15670, 15685, 15689, 15762, 15762,\n",
      "       15778, 15778, 15782, 15828, 15854, 15858, 15873, 15877, 15950,\n",
      "       15950, 15966, 15966, 15966, 15970, 16016, 16042, 16046, 16061,\n",
      "       16065, 16138, 16138, 16138, 16154, 16154, 16154, 16158, 16204,\n",
      "       16230, 16234, 16249, 16253, 16326, 16326, 16326, 16342, 16342,\n",
      "       16342, 16346, 16392, 16418, 16422, 16437, 16441, 16514, 16514,\n",
      "       16514, 16530, 16530, 16530, 16534, 16580, 16606, 16610, 16625,\n",
      "       16629, 16702, 16702, 16702, 16718, 16718, 16718, 16722, 16768,\n",
      "       16794, 16798, 16813, 16817, 16817, 16890, 16890, 16890, 16906,\n",
      "       16906, 16906, 16910, 16956, 16982, 16986, 17001, 17005, 17005,\n",
      "       17005, 17078, 17078, 17078, 17094, 17094, 17094, 17098, 17144,\n",
      "       17170, 17174, 17189, 17193, 17193, 17193, 17266, 17266, 17266,\n",
      "       17282, 17282, 17282, 17286, 17332, 17358, 17362, 17377, 17381,\n",
      "       17381, 17381, 17454, 17454, 17454, 17470, 17470, 17470, 17474,\n",
      "       17520, 17546, 17550, 17565, 17569, 17569, 17569, 17642, 17642,\n",
      "       17642, 17658, 17658, 17658, 17662, 17708, 17734, 17738, 17753,\n",
      "       17757, 17757, 17757, 17830, 17830, 17830, 17846, 17846, 17846,\n",
      "       17850, 17896, 17922, 17926, 17941, 17945, 17945, 17945, 18018,\n",
      "       18018, 18018, 18034, 18034, 18034, 18038, 18084, 18110, 18114,\n",
      "       18129, 18133, 18133, 18133, 18206, 18206, 18206, 18222, 18222,\n",
      "       18222, 18226, 18272, 18298, 18302, 18317, 18321, 18321, 18321,\n",
      "       18394, 18394, 18394, 18410, 18410, 18410, 18414, 18460, 18486,\n",
      "       18486, 18490, 18505, 18509, 18509, 18509, 18582, 18582, 18582,\n",
      "       18598, 18598, 18598, 18602, 18648, 18674, 18674, 18678, 18693,\n",
      "       18697, 18697, 18697, 18770, 18770, 18770, 18785, 18786, 18786,\n",
      "       18786, 18790, 18836, 18862, 18862, 18866, 18881, 18885, 18885,\n",
      "       18885, 18958, 18958, 18958, 18973, 18974, 18974, 18974, 18978,\n",
      "       19024, 19050, 19050, 19054, 19069, 19073, 19073, 19073, 19146,\n",
      "       19146, 19146, 19161, 19162, 19162, 19162, 19166, 19166, 19212,\n",
      "       19238, 19238, 19242, 19257, 19261, 19261, 19261, 19334, 19334,\n",
      "       19334, 19349, 19350, 19350, 19350, 19354, 19354, 19400, 19426,\n",
      "       19426, 19430, 19445, 19449, 19449, 19449, 19522, 19522, 19522,\n",
      "       19537, 19538, 19538, 19538, 19542, 19542, 19575, 19588, 19614,\n",
      "       19614, 19618, 19633, 19637, 19637, 19637, 19710, 19710, 19710,\n",
      "       19725, 19726, 19726, 19726, 19730, 19730, 19763, 19776, 19802,\n",
      "       19802, 19806, 19821, 19825, 19825, 19825, 19898, 19898, 19898,\n",
      "       19913, 19914, 19914, 19914, 19918, 19918, 19951, 19964, 19990,\n",
      "       19990, 19994, 20009, 20013, 20013, 20013, 20086, 20086, 20086,\n",
      "       20101, 20102, 20102, 20102, 20106, 20106, 20139, 20152, 20178,\n",
      "       20178, 20182, 20197, 20201, 20201, 20201, 20256, 20274, 20274,\n",
      "       20274, 20289, 20290, 20290, 20290, 20294, 20294, 20327, 20340,\n",
      "       20366, 20366, 20370, 20385, 20389, 20389, 20389, 20444, 20462,\n",
      "       20462, 20462, 20477, 20478, 20478, 20478, 20482, 20482, 20515,\n",
      "       20528, 20554, 20554, 20558, 20573, 20577, 20577, 20577, 20632,\n",
      "       20650, 20650, 20650, 20665, 20666, 20666, 20666, 20670, 20670,\n",
      "       20703, 20716, 20742, 20742, 20746, 20761, 20765, 20765, 20765,\n",
      "       20820, 20838, 20838, 20838, 20853, 20854, 20854, 20854, 20858,\n",
      "       20858, 20891, 20904, 20930, 20930, 20934, 20949, 20953, 20953,\n",
      "       20953, 21008, 21026, 21026, 21026, 21041, 21042, 21042, 21042,\n",
      "       21046, 21046, 21079, 21079, 21079, 21092, 21118, 21118, 21122,\n",
      "       21137, 21141, 21141, 21141, 21196, 21214, 21214, 21214, 21229,\n",
      "       21230, 21230, 21230, 21234, 21234, 21267, 21267, 21267, 21280,\n",
      "       21306, 21306, 21310, 21325, 21329, 21329, 21329, 21384, 21384,\n",
      "       21402, 21402, 21402, 21417, 21418, 21418, 21418, 21422, 21422,\n",
      "       21455, 21455, 21455, 21468, 21494, 21494, 21498, 21513, 21517,\n",
      "       21517, 21517, 21572, 21572, 21590, 21590, 21590, 21605, 21606,\n",
      "       21606, 21606, 21610, 21610, 21643, 21643, 21643, 21656, 21682,\n",
      "       21682, 21686, 21701, 21705, 21705, 21705, 21760, 21760, 21778,\n",
      "       21778, 21778, 21793, 21794, 21794, 21794, 21798, 21798, 21831,\n",
      "       21831, 21831, 21844, 21870, 21870, 21874, 21889, 21893, 21893,\n",
      "       21893, 21948, 21948, 21966, 21966, 21966, 21981, 21982, 21982,\n",
      "       21982, 21986, 21986, 22019, 22019, 22019, 22032, 22058, 22058,\n",
      "       22062, 22077, 22081, 22081, 22081, 22136, 22136, 22154, 22154,\n",
      "       22154, 22169, 22170, 22170, 22170, 22174, 22174, 22207, 22207,\n",
      "       22207, 22220, 22246, 22246, 22250, 22265, 22269, 22269, 22269,\n",
      "       22324, 22324, 22342, 22342, 22342, 22357, 22358, 22358, 22358,\n",
      "       22362, 22362, 22395, 22395, 22395, 22408, 22434, 22434, 22438,\n",
      "       22453, 22457, 22457, 22457, 22512, 22512, 22530, 22530, 22530,\n",
      "       22545, 22546, 22546, 22546, 22550, 22550, 22583, 22583, 22583,\n",
      "       22596, 22622, 22622, 22626, 22639, 22641, 22645, 22645, 22645,\n",
      "       22700, 22700, 22718, 22718, 22718, 22733, 22734, 22734, 22734,\n",
      "       22738, 22738, 22771, 22771, 22771, 22784, 22810, 22810, 22814,\n",
      "       22827, 22829, 22833, 22833, 22833, 22888, 22888, 22906, 22906,\n",
      "       22906, 22921, 22922, 22922, 22922, 22926, 22926, 22959, 22959,\n",
      "       22959, 22972, 22998, 22998, 23002, 23015, 23017, 23021, 23021,\n",
      "       23021, 23076, 23076, 23094, 23094, 23094, 23109, 23110, 23110,\n",
      "       23110, 23114, 23114, 23147, 23147, 23147, 23160, 23186, 23186,\n",
      "       23190, 23203, 23205, 23209, 23209, 23209, 23258, 23264, 23264,\n",
      "       23282, 23282, 23282, 23297, 23298, 23298, 23298, 23302, 23302,\n",
      "       23335, 23335, 23335, 23348, 23374, 23374, 23378, 23391, 23393,\n",
      "       23397, 23397, 23397, 23425, 23446, 23452, 23452, 23470, 23470,\n",
      "       23470, 23485, 23486, 23486, 23486, 23490, 23490, 23523, 23523,\n",
      "       23523, 23536, 23562, 23562, 23566, 23579, 23581, 23585, 23585,\n",
      "       23585, 23613, 23634, 23640, 23640, 23647, 23658, 23658, 23658,\n",
      "       23673, 23674, 23674, 23674, 23678, 23678], dtype=int64), array([3, 3, 3, 3, 3, 3, 3, 3, 3, 3, 3, 3, 3, 3, 3, 3, 3, 3, 3, 3, 3, 3,\n",
      "       3, 3, 3, 3, 3, 3, 2, 3, 4, 2, 3, 4, 2, 3, 4, 2, 3, 4, 2, 3, 4, 4,\n",
      "       2, 3, 4, 4, 2, 4, 3, 4, 4, 2, 4, 3, 4, 3, 4, 2, 4, 3, 3, 4, 3, 4,\n",
      "       2, 4, 3, 4, 3, 4, 3, 4, 2, 4, 3, 4, 3, 4, 3, 4, 2, 4, 3, 4, 3, 4,\n",
      "       3, 4, 2, 4, 3, 4, 3, 4, 3, 4, 2, 4, 4, 3, 4, 3, 3, 4, 3, 4, 2, 4,\n",
      "       4, 3, 4, 3, 3, 4, 3, 4, 2, 3, 4, 4, 3, 4, 3, 3, 4, 2, 3, 4, 2, 3,\n",
      "       4, 4, 3, 4, 3, 3, 4, 2, 3, 4, 2, 3, 4, 4, 3, 4, 3, 3, 4, 2, 3, 4,\n",
      "       2, 3, 4, 4, 3, 4, 3, 3, 4, 2, 3, 4, 2, 3, 4, 4, 3, 4, 3, 3, 3, 4,\n",
      "       2, 3, 4, 2, 3, 4, 4, 3, 4, 3, 3, 2, 3, 4, 2, 3, 4, 2, 3, 4, 4, 3,\n",
      "       4, 3, 3, 2, 3, 4, 2, 3, 4, 2, 3, 4, 4, 3, 4, 3, 3, 2, 3, 4, 2, 3,\n",
      "       4, 2, 3, 4, 4, 3, 4, 3, 3, 2, 3, 4, 2, 3, 4, 2, 3, 4, 4, 3, 4, 3,\n",
      "       3, 2, 3, 4, 2, 3, 4, 2, 3, 4, 4, 3, 4, 3, 3, 2, 3, 4, 2, 3, 4, 2,\n",
      "       3, 4, 4, 3, 4, 3, 3, 2, 3, 4, 2, 3, 4, 2, 3, 4, 4, 3, 4, 3, 3, 2,\n",
      "       3, 4, 2, 3, 4, 2, 3, 4, 4, 3, 3, 4, 3, 3, 2, 3, 4, 2, 3, 4, 2, 3,\n",
      "       4, 4, 3, 3, 4, 3, 3, 2, 3, 4, 2, 3, 4, 3, 2, 3, 4, 4, 3, 3, 4, 3,\n",
      "       3, 2, 3, 4, 2, 3, 4, 3, 2, 3, 4, 4, 3, 3, 4, 3, 3, 2, 3, 4, 2, 3,\n",
      "       4, 3, 2, 3, 4, 2, 4, 3, 3, 4, 3, 3, 2, 3, 4, 2, 3, 4, 3, 2, 3, 4,\n",
      "       2, 4, 3, 3, 4, 3, 3, 2, 3, 4, 2, 3, 4, 3, 2, 3, 4, 2, 4, 3, 3, 3,\n",
      "       4, 3, 3, 2, 3, 4, 2, 3, 4, 3, 2, 3, 4, 2, 4, 3, 3, 3, 4, 3, 3, 2,\n",
      "       3, 4, 2, 3, 4, 3, 2, 3, 4, 2, 4, 3, 3, 3, 4, 3, 3, 2, 3, 4, 2, 3,\n",
      "       4, 3, 2, 3, 4, 2, 4, 3, 3, 3, 4, 3, 3, 2, 3, 4, 2, 2, 3, 4, 3, 2,\n",
      "       3, 4, 2, 4, 3, 3, 3, 4, 3, 3, 2, 3, 4, 2, 2, 3, 4, 3, 2, 3, 4, 2,\n",
      "       4, 3, 3, 3, 4, 3, 3, 2, 3, 4, 2, 2, 3, 4, 3, 2, 3, 4, 2, 4, 3, 3,\n",
      "       3, 4, 3, 3, 2, 3, 4, 2, 2, 3, 4, 3, 2, 3, 4, 2, 4, 3, 3, 3, 4, 3,\n",
      "       3, 2, 3, 4, 2, 2, 3, 4, 3, 2, 3, 4, 2, 4, 2, 3, 4, 3, 3, 4, 3, 3,\n",
      "       2, 3, 4, 2, 2, 3, 4, 3, 2, 3, 4, 2, 4, 2, 3, 4, 3, 3, 4, 3, 3, 2,\n",
      "       3, 4, 2, 3, 2, 3, 4, 3, 2, 3, 4, 2, 4, 2, 3, 4, 3, 3, 4, 3, 3, 2,\n",
      "       3, 4, 2, 3, 2, 3, 4, 3, 2, 3, 4, 2, 4, 2, 3, 4, 3, 3, 4, 3, 3, 2,\n",
      "       3, 4, 2, 3, 2, 3, 4, 3, 2, 3, 4, 2, 4, 2, 3, 4, 3, 3, 4, 3, 3, 2,\n",
      "       3, 4, 2, 3, 2, 3, 4, 3, 2, 3, 4, 2, 4, 2, 3, 4, 3, 3, 4, 3, 3, 2,\n",
      "       3, 4, 2, 3, 2, 3, 4, 3, 2, 3, 4, 2, 4, 2, 3, 4, 3, 3, 4, 3, 3, 2,\n",
      "       3, 4, 2, 3, 2, 3, 4, 3, 2, 3, 4, 2, 4, 2, 3, 4, 3, 3, 4, 3, 3, 2,\n",
      "       3, 4, 2, 3, 2, 3, 4, 3, 2, 3, 4, 2, 4, 2, 3, 4, 3, 3, 4, 3, 3, 3,\n",
      "       2, 3, 4, 2, 3, 2, 3, 4, 3, 2, 3, 4, 2, 4, 2, 3, 4, 3, 3, 4, 3, 3,\n",
      "       3, 2, 3, 4, 2, 3, 2, 3, 4, 3, 2, 3, 4, 2, 4, 2, 3, 4, 3, 3, 4, 3,\n",
      "       3, 3, 2, 3, 4, 2, 3, 2, 3, 4, 3, 2, 3, 4, 2, 4, 2, 3, 4, 3, 3, 4,\n",
      "       3, 3, 3, 2, 3, 4, 3, 2, 3, 2, 3, 4, 3, 2, 3, 4, 2, 4, 2, 3, 4, 3,\n",
      "       3, 4, 3, 3, 3, 2, 3, 4, 3, 3, 2, 3, 2, 3, 4, 3, 2, 3, 4, 2, 4, 2,\n",
      "       3, 4, 3, 3, 4, 3, 3, 3, 2, 3, 4, 3, 3, 2, 3, 3, 2, 3, 4, 3, 2, 3,\n",
      "       4, 2, 4], dtype=int64))\n"
     ]
    }
   ],
   "source": [
    "# threshold=3\n",
    "print(np.where(z>3))"
   ]
  },
  {
   "cell_type": "code",
   "execution_count": 32,
   "metadata": {},
   "outputs": [
    {
     "name": "stdout",
     "output_type": "stream",
     "text": [
      "(23688, 5)\n",
      "(23177, 5)\n"
     ]
    }
   ],
   "source": [
    "df_new=df[(z<3).all(axis=1)]\n",
    "print(df.shape)\n",
    "print(df_new.shape)"
   ]
  },
  {
   "cell_type": "markdown",
   "metadata": {},
   "source": [
    "# percentage loss"
   ]
  },
  {
   "cell_type": "code",
   "execution_count": 33,
   "metadata": {},
   "outputs": [
    {
     "name": "stdout",
     "output_type": "stream",
     "text": [
      "2.157210401891253\n"
     ]
    }
   ],
   "source": [
    "loss_percent=(23688-23177)/23688*100\n",
    "print(loss_percent)"
   ]
  },
  {
   "cell_type": "code",
   "execution_count": 37,
   "metadata": {},
   "outputs": [],
   "source": [
    "from sklearn.preprocessing import StandardScaler\n",
    "\n"
   ]
  },
  {
   "cell_type": "code",
   "execution_count": null,
   "metadata": {},
   "outputs": [],
   "source": []
  },
  {
   "cell_type": "code",
   "execution_count": 43,
   "metadata": {},
   "outputs": [],
   "source": [
    "x=df_new.iloc[:,:-1]\n",
    "y=df_new.iloc[:,-1]"
   ]
  },
  {
   "cell_type": "markdown",
   "metadata": {},
   "source": [
    "# model buliding"
   ]
  },
  {
   "cell_type": "code",
   "execution_count": 44,
   "metadata": {},
   "outputs": [
    {
     "name": "stdout",
     "output_type": "stream",
     "text": [
      "best accuracy 63.279222511025004found on random_state 80\n"
     ]
    }
   ],
   "source": [
    "#finding the best random state\n",
    "from sklearn.model_selection import train_test_split\n",
    "from sklearn.linear_model import LinearRegression\n",
    "from sklearn.model_selection import cross_val_score\n",
    "from sklearn.metrics import r2_score\n",
    "\n",
    "\n",
    "best_rstate=0\n",
    "accu=0\n",
    "for i in range(0,400):\n",
    "    x_train,x_test,y_train,y_test = train_test_split(x,y,test_size=.25,random_state=i)\n",
    "    mod=LinearRegression()\n",
    "    mod.fit(x_train,y_train)\n",
    "    y_pred=mod.predict(x_test)\n",
    "    tempaccu=r2_score(y_test,y_pred)\n",
    "    if tempaccu>accu:\n",
    "        accu=tempaccu\n",
    "        best_rstate=i\n",
    "        \n",
    "print(f\"best accuracy {accu*100}found on random_state {best_rstate}\")"
   ]
  },
  {
   "cell_type": "code",
   "execution_count": 45,
   "metadata": {},
   "outputs": [],
   "source": [
    "#spliting the data into training and testing\n",
    "from sklearn.model_selection import train_test_split\n",
    "x_train,x_test,y_train,y_test = train_test_split(x,y,test_size=.20,random_state=80)"
   ]
  },
  {
   "cell_type": "markdown",
   "metadata": {},
   "source": [
    "# finding the best model"
   ]
  },
  {
   "cell_type": "code",
   "execution_count": 46,
   "metadata": {},
   "outputs": [
    {
     "name": "stdout",
     "output_type": "stream",
     "text": [
      "accuracy=63.724701505622086, Cross_val_score = 55.15113302444563 $ difference = 8.573568481176459\n"
     ]
    }
   ],
   "source": [
    "from sklearn.linear_model import LinearRegression\n",
    "LR=LinearRegression()\n",
    "LR.fit(x_train,y_train)\n",
    "y_pred=LR.predict(x_test)\n",
    "r2score=r2_score(y_test,y_pred)\n",
    "cvscore=cross_val_score(LinearRegression(),x_train,y_train,cv=5).mean()\n",
    "print(f\"accuracy={r2score*100}, Cross_val_score = {cvscore*100} $ difference = {(r2score*100)-(cvscore*100)}\")"
   ]
  },
  {
   "cell_type": "code",
   "execution_count": 47,
   "metadata": {},
   "outputs": [
    {
     "name": "stdout",
     "output_type": "stream",
     "text": [
      "accuracy=96.77467629391226, Cross_val_score = 94.24726499575002 $ difference = 2.5274112981622494\n"
     ]
    }
   ],
   "source": [
    "#randomo forestregressor\n",
    "from sklearn.ensemble import RandomForestRegressor\n",
    "RF=RandomForestRegressor()\n",
    "RF.fit(x_train,y_train)\n",
    "y_pred=RF.predict(x_test)\n",
    "r2score=r2_score(y_test,y_pred)\n",
    "cvscore=cross_val_score(RandomForestRegressor(),x_train,y_train,cv=5).mean()\n",
    "print(f\"accuracy={r2score*100}, Cross_val_score = {cvscore*100} $ difference = {(r2score*100)-(cvscore*100)}\")"
   ]
  },
  {
   "cell_type": "code",
   "execution_count": 48,
   "metadata": {},
   "outputs": [
    {
     "name": "stdout",
     "output_type": "stream",
     "text": [
      "accuracy=76.6856255291948, Cross_val_score = 75.0899347449929 $ difference = 1.5956907842018921\n"
     ]
    }
   ],
   "source": [
    "#adaBoostRegessor\n",
    "from sklearn.ensemble import AdaBoostRegressor\n",
    "ADB=AdaBoostRegressor()\n",
    "ADB.fit(x_train,y_train)\n",
    "y_pred=ADB.predict(x_test)\n",
    "r2score=r2_score(y_test,y_pred)\n",
    "cvscore=cross_val_score(AdaBoostRegressor(),x_train,y_train,cv=5).mean()\n",
    "print(f\"accuracy={r2score*100}, Cross_val_score = {cvscore*100} $ difference = {(r2score*100)-(cvscore*100)}\")"
   ]
  },
  {
   "cell_type": "code",
   "execution_count": 49,
   "metadata": {},
   "outputs": [
    {
     "name": "stdout",
     "output_type": "stream",
     "text": [
      "accuracy=-1.0387864523713011e+30, Cross_val_score = -4.953382040888084e+30 $ difference = 3.914595588516783e+30\n"
     ]
    }
   ],
   "source": [
    "#SGDRegressor\n",
    "from sklearn.linear_model import SGDRegressor\n",
    "SGD=SGDRegressor()\n",
    "SGD.fit(x_train,y_train)\n",
    "y_pred=SGD.predict(x_test)\n",
    "r2score=r2_score(y_test,y_pred)\n",
    "cvscore=cross_val_score(SGDRegressor(),x_train,y_train,cv=5).mean()\n",
    "print(f\"accuracy={r2score*100}, Cross_val_score = {cvscore*100} $ difference = {(r2score*100)-(cvscore*100)}\")"
   ]
  },
  {
   "cell_type": "raw",
   "metadata": {},
   "source": [
    "as we can see Random Forest regrssor is performing well with 96.96 accuracy and we will use this model."
   ]
  }
 ],
 "metadata": {
  "kernelspec": {
   "display_name": "Python 3",
   "language": "python",
   "name": "python3"
  },
  "language_info": {
   "codemirror_mode": {
    "name": "ipython",
    "version": 3
   },
   "file_extension": ".py",
   "mimetype": "text/x-python",
   "name": "python",
   "nbconvert_exporter": "python",
   "pygments_lexer": "ipython3",
   "version": "3.8.3"
  }
 },
 "nbformat": 4,
 "nbformat_minor": 4
}
