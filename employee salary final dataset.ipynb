{
 "cells": [
  {
   "cell_type": "code",
   "execution_count": 2,
   "metadata": {},
   "outputs": [],
   "source": [
    "import pandas as pd\n",
    "import numpy as np\n",
    "import seaborn as sns\n",
    "import matplotlib.pyplot as plt\n",
    "from sklearn.decomposition import PCA\n",
    "\n",
    "import warnings\n",
    "warnings.filterwarnings('ignore')"
   ]
  },
  {
   "cell_type": "code",
   "execution_count": 3,
   "metadata": {},
   "outputs": [
    {
     "data": {
      "text/html": [
       "<div>\n",
       "<style scoped>\n",
       "    .dataframe tbody tr th:only-of-type {\n",
       "        vertical-align: middle;\n",
       "    }\n",
       "\n",
       "    .dataframe tbody tr th {\n",
       "        vertical-align: top;\n",
       "    }\n",
       "\n",
       "    .dataframe thead th {\n",
       "        text-align: right;\n",
       "    }\n",
       "</style>\n",
       "<table border=\"1\" class=\"dataframe\">\n",
       "  <thead>\n",
       "    <tr style=\"text-align: right;\">\n",
       "      <th></th>\n",
       "      <th>Emp ID</th>\n",
       "      <th>Name Prefix</th>\n",
       "      <th>First Name</th>\n",
       "      <th>Middle Initial</th>\n",
       "      <th>Last Name</th>\n",
       "      <th>Gender</th>\n",
       "      <th>E Mail</th>\n",
       "      <th>Father's Name</th>\n",
       "      <th>Mother's Name</th>\n",
       "      <th>Mother's Maiden Name</th>\n",
       "      <th>...</th>\n",
       "      <th>SSN</th>\n",
       "      <th>Phone No.</th>\n",
       "      <th>Place Name</th>\n",
       "      <th>County</th>\n",
       "      <th>City</th>\n",
       "      <th>State</th>\n",
       "      <th>Zip</th>\n",
       "      <th>Region</th>\n",
       "      <th>User Name</th>\n",
       "      <th>Password</th>\n",
       "    </tr>\n",
       "  </thead>\n",
       "  <tbody>\n",
       "    <tr>\n",
       "      <th>0</th>\n",
       "      <td>850297</td>\n",
       "      <td>Ms.</td>\n",
       "      <td>Shawna</td>\n",
       "      <td>W</td>\n",
       "      <td>Buck</td>\n",
       "      <td>F</td>\n",
       "      <td>shawna.buck@gmail.com</td>\n",
       "      <td>Rosario Buck</td>\n",
       "      <td>Keisha Buck</td>\n",
       "      <td>Hendricks</td>\n",
       "      <td>...</td>\n",
       "      <td>222-11-7603</td>\n",
       "      <td>702-771-7149</td>\n",
       "      <td>Las Vegas</td>\n",
       "      <td>Clark</td>\n",
       "      <td>Las Vegas</td>\n",
       "      <td>NV</td>\n",
       "      <td>89128</td>\n",
       "      <td>West</td>\n",
       "      <td>swbuck</td>\n",
       "      <td>ja8?k3BTF^]o@&lt;&amp;</td>\n",
       "    </tr>\n",
       "    <tr>\n",
       "      <th>1</th>\n",
       "      <td>304721</td>\n",
       "      <td>Mr.</td>\n",
       "      <td>Nathaniel</td>\n",
       "      <td>Z</td>\n",
       "      <td>Burke</td>\n",
       "      <td>M</td>\n",
       "      <td>nathaniel.burke@walmart.com</td>\n",
       "      <td>Derrick Burke</td>\n",
       "      <td>Phoebe Burke</td>\n",
       "      <td>Pugh</td>\n",
       "      <td>...</td>\n",
       "      <td>550-99-9897</td>\n",
       "      <td>231-765-6923</td>\n",
       "      <td>Irons</td>\n",
       "      <td>Lake</td>\n",
       "      <td>Irons</td>\n",
       "      <td>MI</td>\n",
       "      <td>49644</td>\n",
       "      <td>Midwest</td>\n",
       "      <td>nzburke</td>\n",
       "      <td>tPA@4Wh9Ja$+Ln</td>\n",
       "    </tr>\n",
       "    <tr>\n",
       "      <th>2</th>\n",
       "      <td>412317</td>\n",
       "      <td>Drs.</td>\n",
       "      <td>Elisabeth</td>\n",
       "      <td>W</td>\n",
       "      <td>Foster</td>\n",
       "      <td>F</td>\n",
       "      <td>elisabeth.foster@gmail.com</td>\n",
       "      <td>Irwin Foster</td>\n",
       "      <td>Janie Foster</td>\n",
       "      <td>Delaney</td>\n",
       "      <td>...</td>\n",
       "      <td>215-91-0004</td>\n",
       "      <td>270-749-4774</td>\n",
       "      <td>Lexington</td>\n",
       "      <td>Fayette</td>\n",
       "      <td>Lexington</td>\n",
       "      <td>KY</td>\n",
       "      <td>40501</td>\n",
       "      <td>South</td>\n",
       "      <td>ewfoster</td>\n",
       "      <td>5D.B4IGNkWJfG&lt;~</td>\n",
       "    </tr>\n",
       "    <tr>\n",
       "      <th>3</th>\n",
       "      <td>621375</td>\n",
       "      <td>Mrs.</td>\n",
       "      <td>Briana</td>\n",
       "      <td>C</td>\n",
       "      <td>Lancaster</td>\n",
       "      <td>F</td>\n",
       "      <td>briana.lancaster@yahoo.com</td>\n",
       "      <td>Jeffrey Lancaster</td>\n",
       "      <td>Shelby Lancaster</td>\n",
       "      <td>Weiss</td>\n",
       "      <td>...</td>\n",
       "      <td>534-71-1053</td>\n",
       "      <td>219-623-8216</td>\n",
       "      <td>Munster</td>\n",
       "      <td>Lake</td>\n",
       "      <td>Munster</td>\n",
       "      <td>IN</td>\n",
       "      <td>46321</td>\n",
       "      <td>Midwest</td>\n",
       "      <td>bclancaster</td>\n",
       "      <td>I%?JDM;pW</td>\n",
       "    </tr>\n",
       "    <tr>\n",
       "      <th>4</th>\n",
       "      <td>787549</td>\n",
       "      <td>Hon.</td>\n",
       "      <td>Estella</td>\n",
       "      <td>L</td>\n",
       "      <td>Potter</td>\n",
       "      <td>F</td>\n",
       "      <td>estella.potter@gmail.com</td>\n",
       "      <td>Booker Potter</td>\n",
       "      <td>Katelyn Potter</td>\n",
       "      <td>Pate</td>\n",
       "      <td>...</td>\n",
       "      <td>644-29-6396</td>\n",
       "      <td>907-677-8486</td>\n",
       "      <td>Fairbanks</td>\n",
       "      <td>Fairbanks North Star</td>\n",
       "      <td>Fairbanks</td>\n",
       "      <td>AK</td>\n",
       "      <td>99709</td>\n",
       "      <td>West</td>\n",
       "      <td>elpotter</td>\n",
       "      <td>j4jkEXfC&amp;Rh</td>\n",
       "    </tr>\n",
       "    <tr>\n",
       "      <th>5</th>\n",
       "      <td>520092</td>\n",
       "      <td>Mr.</td>\n",
       "      <td>Lamont</td>\n",
       "      <td>L</td>\n",
       "      <td>Woods</td>\n",
       "      <td>M</td>\n",
       "      <td>lamont.woods@hotmail.com</td>\n",
       "      <td>Ignacio Woods</td>\n",
       "      <td>Beulah Woods</td>\n",
       "      <td>Trujillo</td>\n",
       "      <td>...</td>\n",
       "      <td>037-74-2595</td>\n",
       "      <td>236-597-8196</td>\n",
       "      <td>Purcellville</td>\n",
       "      <td>Loudoun</td>\n",
       "      <td>Purcellville</td>\n",
       "      <td>VA</td>\n",
       "      <td>20134</td>\n",
       "      <td>South</td>\n",
       "      <td>llwoods</td>\n",
       "      <td>8tf/YU}&gt;s</td>\n",
       "    </tr>\n",
       "    <tr>\n",
       "      <th>6</th>\n",
       "      <td>795934</td>\n",
       "      <td>Ms.</td>\n",
       "      <td>Melinda</td>\n",
       "      <td>L</td>\n",
       "      <td>Lopez</td>\n",
       "      <td>F</td>\n",
       "      <td>melinda.lopez@hotmail.com</td>\n",
       "      <td>Leroy Lopez</td>\n",
       "      <td>Edna Lopez</td>\n",
       "      <td>Carter</td>\n",
       "      <td>...</td>\n",
       "      <td>541-83-6362</td>\n",
       "      <td>210-396-1493</td>\n",
       "      <td>Stowell</td>\n",
       "      <td>Chambers</td>\n",
       "      <td>Stowell</td>\n",
       "      <td>TX</td>\n",
       "      <td>77661</td>\n",
       "      <td>South</td>\n",
       "      <td>mllopez</td>\n",
       "      <td>hf*&amp;Gcb[</td>\n",
       "    </tr>\n",
       "    <tr>\n",
       "      <th>7</th>\n",
       "      <td>159108</td>\n",
       "      <td>Mrs.</td>\n",
       "      <td>Shanna</td>\n",
       "      <td>U</td>\n",
       "      <td>Silva</td>\n",
       "      <td>F</td>\n",
       "      <td>shanna.silva@gmail.com</td>\n",
       "      <td>Eliseo Silva</td>\n",
       "      <td>Minnie Silva</td>\n",
       "      <td>Callahan</td>\n",
       "      <td>...</td>\n",
       "      <td>673-48-7003</td>\n",
       "      <td>236-373-6712</td>\n",
       "      <td>Herndon</td>\n",
       "      <td>Fairfax</td>\n",
       "      <td>Herndon</td>\n",
       "      <td>VA</td>\n",
       "      <td>20171</td>\n",
       "      <td>South</td>\n",
       "      <td>susilva</td>\n",
       "      <td>oudj2Bq4vc2_{PU</td>\n",
       "    </tr>\n",
       "    <tr>\n",
       "      <th>8</th>\n",
       "      <td>330816</td>\n",
       "      <td>Ms.</td>\n",
       "      <td>Jasmine</td>\n",
       "      <td>J</td>\n",
       "      <td>Freeman</td>\n",
       "      <td>F</td>\n",
       "      <td>jasmine.freeman@gmail.com</td>\n",
       "      <td>Hans Freeman</td>\n",
       "      <td>Renee Freeman</td>\n",
       "      <td>Mcbride</td>\n",
       "      <td>...</td>\n",
       "      <td>600-99-8437</td>\n",
       "      <td>423-796-1535</td>\n",
       "      <td>Ocoee</td>\n",
       "      <td>Polk</td>\n",
       "      <td>Ocoee</td>\n",
       "      <td>TN</td>\n",
       "      <td>37361</td>\n",
       "      <td>South</td>\n",
       "      <td>jjfreeman</td>\n",
       "      <td>Q.8&lt;Q&gt;K*H\\*6f</td>\n",
       "    </tr>\n",
       "    <tr>\n",
       "      <th>9</th>\n",
       "      <td>532002</td>\n",
       "      <td>Ms.</td>\n",
       "      <td>Madge</td>\n",
       "      <td>V</td>\n",
       "      <td>Sargent</td>\n",
       "      <td>F</td>\n",
       "      <td>madge.sargent@aol.com</td>\n",
       "      <td>Luke Sargent</td>\n",
       "      <td>Judy Sargent</td>\n",
       "      <td>Herrera</td>\n",
       "      <td>...</td>\n",
       "      <td>177-86-7347</td>\n",
       "      <td>217-910-0644</td>\n",
       "      <td>Springfield</td>\n",
       "      <td>Sangamon</td>\n",
       "      <td>Springfield</td>\n",
       "      <td>IL</td>\n",
       "      <td>62712</td>\n",
       "      <td>Midwest</td>\n",
       "      <td>mvsargent</td>\n",
       "      <td>bc\\&amp;B81h</td>\n",
       "    </tr>\n",
       "  </tbody>\n",
       "</table>\n",
       "<p>10 rows × 37 columns</p>\n",
       "</div>"
      ],
      "text/plain": [
       "   Emp ID Name Prefix First Name Middle Initial  Last Name Gender  \\\n",
       "0  850297         Ms.     Shawna              W       Buck      F   \n",
       "1  304721         Mr.  Nathaniel              Z      Burke      M   \n",
       "2  412317        Drs.  Elisabeth              W     Foster      F   \n",
       "3  621375        Mrs.     Briana              C  Lancaster      F   \n",
       "4  787549        Hon.    Estella              L     Potter      F   \n",
       "5  520092         Mr.     Lamont              L      Woods      M   \n",
       "6  795934         Ms.    Melinda              L      Lopez      F   \n",
       "7  159108        Mrs.     Shanna              U      Silva      F   \n",
       "8  330816         Ms.    Jasmine              J    Freeman      F   \n",
       "9  532002         Ms.      Madge              V    Sargent      F   \n",
       "\n",
       "                        E Mail      Father's Name     Mother's Name  \\\n",
       "0        shawna.buck@gmail.com       Rosario Buck       Keisha Buck   \n",
       "1  nathaniel.burke@walmart.com      Derrick Burke      Phoebe Burke   \n",
       "2   elisabeth.foster@gmail.com       Irwin Foster      Janie Foster   \n",
       "3   briana.lancaster@yahoo.com  Jeffrey Lancaster  Shelby Lancaster   \n",
       "4     estella.potter@gmail.com      Booker Potter    Katelyn Potter   \n",
       "5     lamont.woods@hotmail.com      Ignacio Woods      Beulah Woods   \n",
       "6    melinda.lopez@hotmail.com        Leroy Lopez        Edna Lopez   \n",
       "7       shanna.silva@gmail.com       Eliseo Silva      Minnie Silva   \n",
       "8    jasmine.freeman@gmail.com       Hans Freeman     Renee Freeman   \n",
       "9        madge.sargent@aol.com       Luke Sargent      Judy Sargent   \n",
       "\n",
       "  Mother's Maiden Name  ...          SSN    Phone No.     Place Name  \\\n",
       "0            Hendricks  ...  222-11-7603  702-771-7149     Las Vegas   \n",
       "1                 Pugh  ...  550-99-9897  231-765-6923         Irons   \n",
       "2              Delaney  ...  215-91-0004  270-749-4774     Lexington   \n",
       "3                Weiss  ...  534-71-1053  219-623-8216       Munster   \n",
       "4                 Pate  ...  644-29-6396  907-677-8486     Fairbanks   \n",
       "5             Trujillo  ...  037-74-2595  236-597-8196  Purcellville   \n",
       "6               Carter  ...  541-83-6362  210-396-1493       Stowell   \n",
       "7             Callahan  ...  673-48-7003  236-373-6712       Herndon   \n",
       "8              Mcbride  ...  600-99-8437  423-796-1535         Ocoee   \n",
       "9              Herrera  ...  177-86-7347  217-910-0644   Springfield   \n",
       "\n",
       "                 County          City State    Zip   Region    User Name  \\\n",
       "0                 Clark     Las Vegas    NV  89128     West       swbuck   \n",
       "1                  Lake         Irons    MI  49644  Midwest      nzburke   \n",
       "2               Fayette     Lexington    KY  40501    South     ewfoster   \n",
       "3                  Lake       Munster    IN  46321  Midwest  bclancaster   \n",
       "4  Fairbanks North Star     Fairbanks    AK  99709     West     elpotter   \n",
       "5               Loudoun  Purcellville    VA  20134    South      llwoods   \n",
       "6              Chambers       Stowell    TX  77661    South      mllopez   \n",
       "7               Fairfax       Herndon    VA  20171    South      susilva   \n",
       "8                  Polk         Ocoee    TN  37361    South    jjfreeman   \n",
       "9              Sangamon   Springfield    IL  62712  Midwest    mvsargent   \n",
       "\n",
       "          Password  \n",
       "0  ja8?k3BTF^]o@<&  \n",
       "1   tPA@4Wh9Ja$+Ln  \n",
       "2  5D.B4IGNkWJfG<~  \n",
       "3        I%?JDM;pW  \n",
       "4      j4jkEXfC&Rh  \n",
       "5        8tf/YU}>s  \n",
       "6         hf*&Gcb[  \n",
       "7  oudj2Bq4vc2_{PU  \n",
       "8    Q.8<Q>K*H\\*6f  \n",
       "9         bc\\&B81h  \n",
       "\n",
       "[10 rows x 37 columns]"
      ]
     },
     "execution_count": 3,
     "metadata": {},
     "output_type": "execute_result"
    }
   ],
   "source": [
    "df=pd.read_csv('employee_salary_csv')\n",
    "df.head(10)"
   ]
  },
  {
   "cell_type": "code",
   "execution_count": 4,
   "metadata": {},
   "outputs": [
    {
     "data": {
      "text/plain": [
       "(1000, 37)"
      ]
     },
     "execution_count": 4,
     "metadata": {},
     "output_type": "execute_result"
    }
   ],
   "source": [
    "df.shape"
   ]
  },
  {
   "cell_type": "code",
   "execution_count": 5,
   "metadata": {},
   "outputs": [
    {
     "data": {
      "text/plain": [
       "Emp ID                      int64\n",
       "Name Prefix                object\n",
       "First Name                 object\n",
       "Middle Initial             object\n",
       "Last Name                  object\n",
       "Gender                     object\n",
       "E Mail                     object\n",
       "Father's Name              object\n",
       "Mother's Name              object\n",
       "Mother's Maiden Name       object\n",
       "Date of Birth              object\n",
       "Time of Birth              object\n",
       "Age in Yrs.               float64\n",
       "Weight in Kgs.              int64\n",
       "Date of Joining            object\n",
       "Quarter of Joining         object\n",
       "Half of Joining            object\n",
       "Year of Joining             int64\n",
       "Month of Joining            int64\n",
       "Month Name of Joining      object\n",
       "Short Month                object\n",
       "Day of Joining              int64\n",
       "DOW of Joining             object\n",
       "Short DOW                  object\n",
       "Age in Company (Years)    float64\n",
       "Salary                      int64\n",
       "Last % Hike                object\n",
       "SSN                        object\n",
       "Phone No.                  object\n",
       "Place Name                 object\n",
       "County                     object\n",
       "City                       object\n",
       "State                      object\n",
       "Zip                         int64\n",
       "Region                     object\n",
       "User Name                  object\n",
       "Password                   object\n",
       "dtype: object"
      ]
     },
     "execution_count": 5,
     "metadata": {},
     "output_type": "execute_result"
    }
   ],
   "source": [
    "df.dtypes"
   ]
  },
  {
   "cell_type": "code",
   "execution_count": 6,
   "metadata": {},
   "outputs": [
    {
     "data": {
      "text/plain": [
       "Index(['Emp ID', 'Name Prefix', 'First Name', 'Middle Initial', 'Last Name',\n",
       "       'Gender', 'E Mail', 'Father's Name', 'Mother's Name',\n",
       "       'Mother's Maiden Name', 'Date of Birth', 'Time of Birth', 'Age in Yrs.',\n",
       "       'Weight in Kgs.', 'Date of Joining', 'Quarter of Joining',\n",
       "       'Half of Joining', 'Year of Joining', 'Month of Joining',\n",
       "       'Month Name of Joining', 'Short Month', 'Day of Joining',\n",
       "       'DOW of Joining', 'Short DOW', 'Age in Company (Years)', 'Salary',\n",
       "       'Last % Hike', 'SSN', 'Phone No. ', 'Place Name', 'County', 'City',\n",
       "       'State', 'Zip', 'Region', 'User Name', 'Password'],\n",
       "      dtype='object')"
      ]
     },
     "execution_count": 6,
     "metadata": {},
     "output_type": "execute_result"
    }
   ],
   "source": [
    "df.columns"
   ]
  },
  {
   "cell_type": "code",
   "execution_count": 7,
   "metadata": {},
   "outputs": [
    {
     "name": "stdout",
     "output_type": "stream",
     "text": [
      "<class 'pandas.core.frame.DataFrame'>\n",
      "RangeIndex: 1000 entries, 0 to 999\n",
      "Data columns (total 37 columns):\n",
      " #   Column                  Non-Null Count  Dtype  \n",
      "---  ------                  --------------  -----  \n",
      " 0   Emp ID                  1000 non-null   int64  \n",
      " 1   Name Prefix             1000 non-null   object \n",
      " 2   First Name              1000 non-null   object \n",
      " 3   Middle Initial          1000 non-null   object \n",
      " 4   Last Name               1000 non-null   object \n",
      " 5   Gender                  1000 non-null   object \n",
      " 6   E Mail                  1000 non-null   object \n",
      " 7   Father's Name           1000 non-null   object \n",
      " 8   Mother's Name           1000 non-null   object \n",
      " 9   Mother's Maiden Name    1000 non-null   object \n",
      " 10  Date of Birth           1000 non-null   object \n",
      " 11  Time of Birth           1000 non-null   object \n",
      " 12  Age in Yrs.             1000 non-null   float64\n",
      " 13  Weight in Kgs.          1000 non-null   int64  \n",
      " 14  Date of Joining         1000 non-null   object \n",
      " 15  Quarter of Joining      1000 non-null   object \n",
      " 16  Half of Joining         1000 non-null   object \n",
      " 17  Year of Joining         1000 non-null   int64  \n",
      " 18  Month of Joining        1000 non-null   int64  \n",
      " 19  Month Name of Joining   1000 non-null   object \n",
      " 20  Short Month             1000 non-null   object \n",
      " 21  Day of Joining          1000 non-null   int64  \n",
      " 22  DOW of Joining          1000 non-null   object \n",
      " 23  Short DOW               1000 non-null   object \n",
      " 24  Age in Company (Years)  1000 non-null   float64\n",
      " 25  Salary                  1000 non-null   int64  \n",
      " 26  Last % Hike             1000 non-null   object \n",
      " 27  SSN                     1000 non-null   object \n",
      " 28  Phone No.               1000 non-null   object \n",
      " 29  Place Name              1000 non-null   object \n",
      " 30  County                  1000 non-null   object \n",
      " 31  City                    1000 non-null   object \n",
      " 32  State                   1000 non-null   object \n",
      " 33  Zip                     1000 non-null   int64  \n",
      " 34  Region                  1000 non-null   object \n",
      " 35  User Name               1000 non-null   object \n",
      " 36  Password                1000 non-null   object \n",
      "dtypes: float64(2), int64(7), object(28)\n",
      "memory usage: 289.2+ KB\n"
     ]
    }
   ],
   "source": [
    "df.info()"
   ]
  },
  {
   "cell_type": "code",
   "execution_count": 8,
   "metadata": {},
   "outputs": [
    {
     "data": {
      "text/plain": [
       "Emp ID                    False\n",
       "Name Prefix               False\n",
       "First Name                False\n",
       "Middle Initial            False\n",
       "Last Name                 False\n",
       "Gender                    False\n",
       "E Mail                    False\n",
       "Father's Name             False\n",
       "Mother's Name             False\n",
       "Mother's Maiden Name      False\n",
       "Date of Birth             False\n",
       "Time of Birth             False\n",
       "Age in Yrs.               False\n",
       "Weight in Kgs.            False\n",
       "Date of Joining           False\n",
       "Quarter of Joining        False\n",
       "Half of Joining           False\n",
       "Year of Joining           False\n",
       "Month of Joining          False\n",
       "Month Name of Joining     False\n",
       "Short Month               False\n",
       "Day of Joining            False\n",
       "DOW of Joining            False\n",
       "Short DOW                 False\n",
       "Age in Company (Years)    False\n",
       "Salary                    False\n",
       "Last % Hike               False\n",
       "SSN                       False\n",
       "Phone No.                 False\n",
       "Place Name                False\n",
       "County                    False\n",
       "City                      False\n",
       "State                     False\n",
       "Zip                       False\n",
       "Region                    False\n",
       "User Name                 False\n",
       "Password                  False\n",
       "dtype: bool"
      ]
     },
     "execution_count": 8,
     "metadata": {},
     "output_type": "execute_result"
    }
   ],
   "source": [
    "df.isnull().any()"
   ]
  },
  {
   "cell_type": "raw",
   "metadata": {},
   "source": [
    "there is no null value"
   ]
  },
  {
   "cell_type": "code",
   "execution_count": 9,
   "metadata": {},
   "outputs": [
    {
     "data": {
      "text/html": [
       "<div>\n",
       "<style scoped>\n",
       "    .dataframe tbody tr th:only-of-type {\n",
       "        vertical-align: middle;\n",
       "    }\n",
       "\n",
       "    .dataframe tbody tr th {\n",
       "        vertical-align: top;\n",
       "    }\n",
       "\n",
       "    .dataframe thead th {\n",
       "        text-align: right;\n",
       "    }\n",
       "</style>\n",
       "<table border=\"1\" class=\"dataframe\">\n",
       "  <thead>\n",
       "    <tr style=\"text-align: right;\">\n",
       "      <th></th>\n",
       "      <th>Emp ID</th>\n",
       "      <th>Age in Yrs.</th>\n",
       "      <th>Weight in Kgs.</th>\n",
       "      <th>Year of Joining</th>\n",
       "      <th>Month of Joining</th>\n",
       "      <th>Day of Joining</th>\n",
       "      <th>Age in Company (Years)</th>\n",
       "      <th>Salary</th>\n",
       "      <th>Zip</th>\n",
       "    </tr>\n",
       "  </thead>\n",
       "  <tbody>\n",
       "    <tr>\n",
       "      <th>count</th>\n",
       "      <td>1000.000000</td>\n",
       "      <td>1000.000000</td>\n",
       "      <td>1000.000000</td>\n",
       "      <td>1000.000000</td>\n",
       "      <td>1000.000000</td>\n",
       "      <td>1000.000000</td>\n",
       "      <td>1000.000000</td>\n",
       "      <td>1000.000000</td>\n",
       "      <td>1000.000000</td>\n",
       "    </tr>\n",
       "    <tr>\n",
       "      <th>mean</th>\n",
       "      <td>549097.583000</td>\n",
       "      <td>40.377250</td>\n",
       "      <td>59.409000</td>\n",
       "      <td>2006.992000</td>\n",
       "      <td>6.415000</td>\n",
       "      <td>16.481000</td>\n",
       "      <td>10.093720</td>\n",
       "      <td>120288.528000</td>\n",
       "      <td>48698.499000</td>\n",
       "    </tr>\n",
       "    <tr>\n",
       "      <th>std</th>\n",
       "      <td>264810.879315</td>\n",
       "      <td>11.107729</td>\n",
       "      <td>13.900322</td>\n",
       "      <td>8.565588</td>\n",
       "      <td>3.428488</td>\n",
       "      <td>8.831514</td>\n",
       "      <td>8.568863</td>\n",
       "      <td>45178.339916</td>\n",
       "      <td>27396.021481</td>\n",
       "    </tr>\n",
       "    <tr>\n",
       "      <th>min</th>\n",
       "      <td>114425.000000</td>\n",
       "      <td>21.040000</td>\n",
       "      <td>40.000000</td>\n",
       "      <td>1980.000000</td>\n",
       "      <td>1.000000</td>\n",
       "      <td>1.000000</td>\n",
       "      <td>0.000000</td>\n",
       "      <td>40040.000000</td>\n",
       "      <td>1002.000000</td>\n",
       "    </tr>\n",
       "    <tr>\n",
       "      <th>25%</th>\n",
       "      <td>307757.000000</td>\n",
       "      <td>30.925000</td>\n",
       "      <td>49.000000</td>\n",
       "      <td>2002.000000</td>\n",
       "      <td>4.000000</td>\n",
       "      <td>9.000000</td>\n",
       "      <td>3.152500</td>\n",
       "      <td>82122.000000</td>\n",
       "      <td>25421.750000</td>\n",
       "    </tr>\n",
       "    <tr>\n",
       "      <th>50%</th>\n",
       "      <td>543073.000000</td>\n",
       "      <td>40.730000</td>\n",
       "      <td>57.000000</td>\n",
       "      <td>2009.000000</td>\n",
       "      <td>6.000000</td>\n",
       "      <td>17.000000</td>\n",
       "      <td>7.815000</td>\n",
       "      <td>119409.000000</td>\n",
       "      <td>47416.500000</td>\n",
       "    </tr>\n",
       "    <tr>\n",
       "      <th>75%</th>\n",
       "      <td>788450.250000</td>\n",
       "      <td>49.852500</td>\n",
       "      <td>68.000000</td>\n",
       "      <td>2014.000000</td>\n",
       "      <td>10.000000</td>\n",
       "      <td>24.000000</td>\n",
       "      <td>15.465000</td>\n",
       "      <td>159109.000000</td>\n",
       "      <td>71101.000000</td>\n",
       "    </tr>\n",
       "    <tr>\n",
       "      <th>max</th>\n",
       "      <td>999475.000000</td>\n",
       "      <td>59.980000</td>\n",
       "      <td>90.000000</td>\n",
       "      <td>2017.000000</td>\n",
       "      <td>12.000000</td>\n",
       "      <td>31.000000</td>\n",
       "      <td>37.570000</td>\n",
       "      <td>199943.000000</td>\n",
       "      <td>99791.000000</td>\n",
       "    </tr>\n",
       "  </tbody>\n",
       "</table>\n",
       "</div>"
      ],
      "text/plain": [
       "              Emp ID  Age in Yrs.  Weight in Kgs.  Year of Joining  \\\n",
       "count    1000.000000  1000.000000     1000.000000      1000.000000   \n",
       "mean   549097.583000    40.377250       59.409000      2006.992000   \n",
       "std    264810.879315    11.107729       13.900322         8.565588   \n",
       "min    114425.000000    21.040000       40.000000      1980.000000   \n",
       "25%    307757.000000    30.925000       49.000000      2002.000000   \n",
       "50%    543073.000000    40.730000       57.000000      2009.000000   \n",
       "75%    788450.250000    49.852500       68.000000      2014.000000   \n",
       "max    999475.000000    59.980000       90.000000      2017.000000   \n",
       "\n",
       "       Month of Joining  Day of Joining  Age in Company (Years)  \\\n",
       "count       1000.000000     1000.000000             1000.000000   \n",
       "mean           6.415000       16.481000               10.093720   \n",
       "std            3.428488        8.831514                8.568863   \n",
       "min            1.000000        1.000000                0.000000   \n",
       "25%            4.000000        9.000000                3.152500   \n",
       "50%            6.000000       17.000000                7.815000   \n",
       "75%           10.000000       24.000000               15.465000   \n",
       "max           12.000000       31.000000               37.570000   \n",
       "\n",
       "              Salary           Zip  \n",
       "count    1000.000000   1000.000000  \n",
       "mean   120288.528000  48698.499000  \n",
       "std     45178.339916  27396.021481  \n",
       "min     40040.000000   1002.000000  \n",
       "25%     82122.000000  25421.750000  \n",
       "50%    119409.000000  47416.500000  \n",
       "75%    159109.000000  71101.000000  \n",
       "max    199943.000000  99791.000000  "
      ]
     },
     "execution_count": 9,
     "metadata": {},
     "output_type": "execute_result"
    }
   ],
   "source": [
    "df.describe()"
   ]
  },
  {
   "cell_type": "code",
   "execution_count": 10,
   "metadata": {},
   "outputs": [
    {
     "data": {
      "text/html": [
       "<div>\n",
       "<style scoped>\n",
       "    .dataframe tbody tr th:only-of-type {\n",
       "        vertical-align: middle;\n",
       "    }\n",
       "\n",
       "    .dataframe tbody tr th {\n",
       "        vertical-align: top;\n",
       "    }\n",
       "\n",
       "    .dataframe thead th {\n",
       "        text-align: right;\n",
       "    }\n",
       "</style>\n",
       "<table border=\"1\" class=\"dataframe\">\n",
       "  <thead>\n",
       "    <tr style=\"text-align: right;\">\n",
       "      <th></th>\n",
       "      <th>Emp ID</th>\n",
       "      <th>Name Prefix</th>\n",
       "      <th>First Name</th>\n",
       "      <th>Middle Initial</th>\n",
       "      <th>Last Name</th>\n",
       "      <th>Gender</th>\n",
       "      <th>E Mail</th>\n",
       "      <th>Father's Name</th>\n",
       "      <th>Mother's Name</th>\n",
       "      <th>Mother's Maiden Name</th>\n",
       "      <th>...</th>\n",
       "      <th>SSN</th>\n",
       "      <th>Phone No.</th>\n",
       "      <th>Place Name</th>\n",
       "      <th>County</th>\n",
       "      <th>City</th>\n",
       "      <th>State</th>\n",
       "      <th>Zip</th>\n",
       "      <th>Region</th>\n",
       "      <th>User Name</th>\n",
       "      <th>Password</th>\n",
       "    </tr>\n",
       "  </thead>\n",
       "  <tbody>\n",
       "    <tr>\n",
       "      <th>0</th>\n",
       "      <td>850297</td>\n",
       "      <td>Ms.</td>\n",
       "      <td>Shawna</td>\n",
       "      <td>W</td>\n",
       "      <td>Buck</td>\n",
       "      <td>F</td>\n",
       "      <td>shawna.buck@gmail.com</td>\n",
       "      <td>Rosario Buck</td>\n",
       "      <td>Keisha Buck</td>\n",
       "      <td>Hendricks</td>\n",
       "      <td>...</td>\n",
       "      <td>222-11-7603</td>\n",
       "      <td>702-771-7149</td>\n",
       "      <td>Las Vegas</td>\n",
       "      <td>Clark</td>\n",
       "      <td>Las Vegas</td>\n",
       "      <td>NV</td>\n",
       "      <td>89128</td>\n",
       "      <td>West</td>\n",
       "      <td>swbuck</td>\n",
       "      <td>ja8?k3BTF^]o@&lt;&amp;</td>\n",
       "    </tr>\n",
       "    <tr>\n",
       "      <th>1</th>\n",
       "      <td>304721</td>\n",
       "      <td>Mr.</td>\n",
       "      <td>Nathaniel</td>\n",
       "      <td>Z</td>\n",
       "      <td>Burke</td>\n",
       "      <td>M</td>\n",
       "      <td>nathaniel.burke@walmart.com</td>\n",
       "      <td>Derrick Burke</td>\n",
       "      <td>Phoebe Burke</td>\n",
       "      <td>Pugh</td>\n",
       "      <td>...</td>\n",
       "      <td>550-99-9897</td>\n",
       "      <td>231-765-6923</td>\n",
       "      <td>Irons</td>\n",
       "      <td>Lake</td>\n",
       "      <td>Irons</td>\n",
       "      <td>MI</td>\n",
       "      <td>49644</td>\n",
       "      <td>Midwest</td>\n",
       "      <td>nzburke</td>\n",
       "      <td>tPA@4Wh9Ja$+Ln</td>\n",
       "    </tr>\n",
       "    <tr>\n",
       "      <th>2</th>\n",
       "      <td>412317</td>\n",
       "      <td>Drs.</td>\n",
       "      <td>Elisabeth</td>\n",
       "      <td>W</td>\n",
       "      <td>Foster</td>\n",
       "      <td>F</td>\n",
       "      <td>elisabeth.foster@gmail.com</td>\n",
       "      <td>Irwin Foster</td>\n",
       "      <td>Janie Foster</td>\n",
       "      <td>Delaney</td>\n",
       "      <td>...</td>\n",
       "      <td>215-91-0004</td>\n",
       "      <td>270-749-4774</td>\n",
       "      <td>Lexington</td>\n",
       "      <td>Fayette</td>\n",
       "      <td>Lexington</td>\n",
       "      <td>KY</td>\n",
       "      <td>40501</td>\n",
       "      <td>South</td>\n",
       "      <td>ewfoster</td>\n",
       "      <td>5D.B4IGNkWJfG&lt;~</td>\n",
       "    </tr>\n",
       "    <tr>\n",
       "      <th>3</th>\n",
       "      <td>621375</td>\n",
       "      <td>Mrs.</td>\n",
       "      <td>Briana</td>\n",
       "      <td>C</td>\n",
       "      <td>Lancaster</td>\n",
       "      <td>F</td>\n",
       "      <td>briana.lancaster@yahoo.com</td>\n",
       "      <td>Jeffrey Lancaster</td>\n",
       "      <td>Shelby Lancaster</td>\n",
       "      <td>Weiss</td>\n",
       "      <td>...</td>\n",
       "      <td>534-71-1053</td>\n",
       "      <td>219-623-8216</td>\n",
       "      <td>Munster</td>\n",
       "      <td>Lake</td>\n",
       "      <td>Munster</td>\n",
       "      <td>IN</td>\n",
       "      <td>46321</td>\n",
       "      <td>Midwest</td>\n",
       "      <td>bclancaster</td>\n",
       "      <td>I%?JDM;pW</td>\n",
       "    </tr>\n",
       "    <tr>\n",
       "      <th>4</th>\n",
       "      <td>787549</td>\n",
       "      <td>Hon.</td>\n",
       "      <td>Estella</td>\n",
       "      <td>L</td>\n",
       "      <td>Potter</td>\n",
       "      <td>F</td>\n",
       "      <td>estella.potter@gmail.com</td>\n",
       "      <td>Booker Potter</td>\n",
       "      <td>Katelyn Potter</td>\n",
       "      <td>Pate</td>\n",
       "      <td>...</td>\n",
       "      <td>644-29-6396</td>\n",
       "      <td>907-677-8486</td>\n",
       "      <td>Fairbanks</td>\n",
       "      <td>Fairbanks North Star</td>\n",
       "      <td>Fairbanks</td>\n",
       "      <td>AK</td>\n",
       "      <td>99709</td>\n",
       "      <td>West</td>\n",
       "      <td>elpotter</td>\n",
       "      <td>j4jkEXfC&amp;Rh</td>\n",
       "    </tr>\n",
       "    <tr>\n",
       "      <th>...</th>\n",
       "      <td>...</td>\n",
       "      <td>...</td>\n",
       "      <td>...</td>\n",
       "      <td>...</td>\n",
       "      <td>...</td>\n",
       "      <td>...</td>\n",
       "      <td>...</td>\n",
       "      <td>...</td>\n",
       "      <td>...</td>\n",
       "      <td>...</td>\n",
       "      <td>...</td>\n",
       "      <td>...</td>\n",
       "      <td>...</td>\n",
       "      <td>...</td>\n",
       "      <td>...</td>\n",
       "      <td>...</td>\n",
       "      <td>...</td>\n",
       "      <td>...</td>\n",
       "      <td>...</td>\n",
       "      <td>...</td>\n",
       "      <td>...</td>\n",
       "    </tr>\n",
       "    <tr>\n",
       "      <th>995</th>\n",
       "      <td>568435</td>\n",
       "      <td>Ms.</td>\n",
       "      <td>Bonnie</td>\n",
       "      <td>K</td>\n",
       "      <td>Baker</td>\n",
       "      <td>F</td>\n",
       "      <td>bonnie.baker@bp.com</td>\n",
       "      <td>Edwardo Baker</td>\n",
       "      <td>Pauline Baker</td>\n",
       "      <td>Robinson</td>\n",
       "      <td>...</td>\n",
       "      <td>064-02-6162</td>\n",
       "      <td>262-696-9171</td>\n",
       "      <td>Mukwonago</td>\n",
       "      <td>Waukesha</td>\n",
       "      <td>Mukwonago</td>\n",
       "      <td>WI</td>\n",
       "      <td>53149</td>\n",
       "      <td>Midwest</td>\n",
       "      <td>bkbaker</td>\n",
       "      <td>a?Co:/r;nu_wTQ</td>\n",
       "    </tr>\n",
       "    <tr>\n",
       "      <th>996</th>\n",
       "      <td>597409</td>\n",
       "      <td>Mr.</td>\n",
       "      <td>Luke</td>\n",
       "      <td>S</td>\n",
       "      <td>Turner</td>\n",
       "      <td>M</td>\n",
       "      <td>luke.turner@charter.net</td>\n",
       "      <td>Javier Turner</td>\n",
       "      <td>Nicole Turner</td>\n",
       "      <td>Sykes</td>\n",
       "      <td>...</td>\n",
       "      <td>056-02-8240</td>\n",
       "      <td>231-629-0498</td>\n",
       "      <td>Freeport</td>\n",
       "      <td>Barry</td>\n",
       "      <td>Freeport</td>\n",
       "      <td>MI</td>\n",
       "      <td>49325</td>\n",
       "      <td>Midwest</td>\n",
       "      <td>lsturner</td>\n",
       "      <td>7n5@64VC7|</td>\n",
       "    </tr>\n",
       "    <tr>\n",
       "      <th>997</th>\n",
       "      <td>359608</td>\n",
       "      <td>Hon.</td>\n",
       "      <td>Eva</td>\n",
       "      <td>S</td>\n",
       "      <td>Holman</td>\n",
       "      <td>F</td>\n",
       "      <td>eva.holman@hotmail.com</td>\n",
       "      <td>Coy Holman</td>\n",
       "      <td>Haley Holman</td>\n",
       "      <td>Boyle</td>\n",
       "      <td>...</td>\n",
       "      <td>343-11-1935</td>\n",
       "      <td>209-912-6705</td>\n",
       "      <td>Turlock</td>\n",
       "      <td>Stanislaus</td>\n",
       "      <td>Turlock</td>\n",
       "      <td>CA</td>\n",
       "      <td>95381</td>\n",
       "      <td>West</td>\n",
       "      <td>esholman</td>\n",
       "      <td>DG&lt;&lt;&lt;e}*WgD&lt;U</td>\n",
       "    </tr>\n",
       "    <tr>\n",
       "      <th>998</th>\n",
       "      <td>803426</td>\n",
       "      <td>Mrs.</td>\n",
       "      <td>Maritza</td>\n",
       "      <td>H</td>\n",
       "      <td>Christian</td>\n",
       "      <td>F</td>\n",
       "      <td>maritza.christian@microsoft.com</td>\n",
       "      <td>Dion Christian</td>\n",
       "      <td>Stephanie Christian</td>\n",
       "      <td>Mooney</td>\n",
       "      <td>...</td>\n",
       "      <td>336-11-5030</td>\n",
       "      <td>203-224-9056</td>\n",
       "      <td>Stamford</td>\n",
       "      <td>Fairfield</td>\n",
       "      <td>Stamford</td>\n",
       "      <td>CT</td>\n",
       "      <td>6910</td>\n",
       "      <td>Northeast</td>\n",
       "      <td>mhchristian</td>\n",
       "      <td>Krs@#TnM</td>\n",
       "    </tr>\n",
       "    <tr>\n",
       "      <th>999</th>\n",
       "      <td>669618</td>\n",
       "      <td>Drs.</td>\n",
       "      <td>Phyllis</td>\n",
       "      <td>H</td>\n",
       "      <td>Dudley</td>\n",
       "      <td>F</td>\n",
       "      <td>phyllis.dudley@yahoo.co.in</td>\n",
       "      <td>Jarrod Dudley</td>\n",
       "      <td>Latisha Dudley</td>\n",
       "      <td>Wilcox</td>\n",
       "      <td>...</td>\n",
       "      <td>101-02-6501</td>\n",
       "      <td>405-970-2341</td>\n",
       "      <td>Meno</td>\n",
       "      <td>Major</td>\n",
       "      <td>Meno</td>\n",
       "      <td>OK</td>\n",
       "      <td>73760</td>\n",
       "      <td>South</td>\n",
       "      <td>phdudley</td>\n",
       "      <td>h6wt@400%&amp;Uu</td>\n",
       "    </tr>\n",
       "  </tbody>\n",
       "</table>\n",
       "<p>1000 rows × 37 columns</p>\n",
       "</div>"
      ],
      "text/plain": [
       "     Emp ID Name Prefix First Name Middle Initial  Last Name Gender  \\\n",
       "0    850297         Ms.     Shawna              W       Buck      F   \n",
       "1    304721         Mr.  Nathaniel              Z      Burke      M   \n",
       "2    412317        Drs.  Elisabeth              W     Foster      F   \n",
       "3    621375        Mrs.     Briana              C  Lancaster      F   \n",
       "4    787549        Hon.    Estella              L     Potter      F   \n",
       "..      ...         ...        ...            ...        ...    ...   \n",
       "995  568435         Ms.     Bonnie              K      Baker      F   \n",
       "996  597409         Mr.       Luke              S     Turner      M   \n",
       "997  359608        Hon.        Eva              S     Holman      F   \n",
       "998  803426        Mrs.    Maritza              H  Christian      F   \n",
       "999  669618        Drs.    Phyllis              H     Dudley      F   \n",
       "\n",
       "                              E Mail      Father's Name        Mother's Name  \\\n",
       "0              shawna.buck@gmail.com       Rosario Buck          Keisha Buck   \n",
       "1        nathaniel.burke@walmart.com      Derrick Burke         Phoebe Burke   \n",
       "2         elisabeth.foster@gmail.com       Irwin Foster         Janie Foster   \n",
       "3         briana.lancaster@yahoo.com  Jeffrey Lancaster     Shelby Lancaster   \n",
       "4           estella.potter@gmail.com      Booker Potter       Katelyn Potter   \n",
       "..                               ...                ...                  ...   \n",
       "995              bonnie.baker@bp.com      Edwardo Baker        Pauline Baker   \n",
       "996          luke.turner@charter.net      Javier Turner        Nicole Turner   \n",
       "997           eva.holman@hotmail.com         Coy Holman         Haley Holman   \n",
       "998  maritza.christian@microsoft.com     Dion Christian  Stephanie Christian   \n",
       "999       phyllis.dudley@yahoo.co.in      Jarrod Dudley       Latisha Dudley   \n",
       "\n",
       "    Mother's Maiden Name  ...          SSN    Phone No.   Place Name  \\\n",
       "0              Hendricks  ...  222-11-7603  702-771-7149   Las Vegas   \n",
       "1                   Pugh  ...  550-99-9897  231-765-6923       Irons   \n",
       "2                Delaney  ...  215-91-0004  270-749-4774   Lexington   \n",
       "3                  Weiss  ...  534-71-1053  219-623-8216     Munster   \n",
       "4                   Pate  ...  644-29-6396  907-677-8486   Fairbanks   \n",
       "..                   ...  ...          ...           ...         ...   \n",
       "995             Robinson  ...  064-02-6162  262-696-9171   Mukwonago   \n",
       "996                Sykes  ...  056-02-8240  231-629-0498    Freeport   \n",
       "997                Boyle  ...  343-11-1935  209-912-6705     Turlock   \n",
       "998               Mooney  ...  336-11-5030  203-224-9056    Stamford   \n",
       "999               Wilcox  ...  101-02-6501  405-970-2341        Meno   \n",
       "\n",
       "                   County       City State    Zip     Region    User Name  \\\n",
       "0                   Clark  Las Vegas    NV  89128       West       swbuck   \n",
       "1                    Lake      Irons    MI  49644    Midwest      nzburke   \n",
       "2                 Fayette  Lexington    KY  40501      South     ewfoster   \n",
       "3                    Lake    Munster    IN  46321    Midwest  bclancaster   \n",
       "4    Fairbanks North Star  Fairbanks    AK  99709       West     elpotter   \n",
       "..                    ...        ...   ...    ...        ...          ...   \n",
       "995              Waukesha  Mukwonago    WI  53149    Midwest      bkbaker   \n",
       "996                 Barry   Freeport    MI  49325    Midwest     lsturner   \n",
       "997            Stanislaus    Turlock    CA  95381       West     esholman   \n",
       "998             Fairfield   Stamford    CT   6910  Northeast  mhchristian   \n",
       "999                 Major       Meno    OK  73760      South     phdudley   \n",
       "\n",
       "            Password  \n",
       "0    ja8?k3BTF^]o@<&  \n",
       "1     tPA@4Wh9Ja$+Ln  \n",
       "2    5D.B4IGNkWJfG<~  \n",
       "3          I%?JDM;pW  \n",
       "4        j4jkEXfC&Rh  \n",
       "..               ...  \n",
       "995   a?Co:/r;nu_wTQ  \n",
       "996       7n5@64VC7|  \n",
       "997    DG<<<e}*WgD<U  \n",
       "998         Krs@#TnM  \n",
       "999     h6wt@400%&Uu  \n",
       "\n",
       "[1000 rows x 37 columns]"
      ]
     },
     "execution_count": 10,
     "metadata": {},
     "output_type": "execute_result"
    }
   ],
   "source": [
    "dfcorr=df.corr()\n",
    "df"
   ]
  },
  {
   "cell_type": "code",
   "execution_count": 11,
   "metadata": {},
   "outputs": [
    {
     "data": {
      "text/plain": [
       "<matplotlib.axes._subplots.AxesSubplot at 0x1b19c601d30>"
      ]
     },
     "execution_count": 11,
     "metadata": {},
     "output_type": "execute_result"
    },
    {
     "data": {
      "image/png": "[encoded data removed]",
      "text/plain": [
       "<Figure size 432x288 with 2 Axes>"
      ]
     },
     "metadata": {
      "needs_background": "light"
     },
     "output_type": "display_data"
    }
   ],
   "source": [
    "sns.heatmap(dfcorr)\n"
   ]
  },
  {
   "cell_type": "code",
   "execution_count": 12,
   "metadata": {},
   "outputs": [
    {
     "data": {
      "text/plain": [
       "<matplotlib.axes._subplots.AxesSubplot at 0x1b19c661220>"
      ]
     },
     "execution_count": 12,
     "metadata": {},
     "output_type": "execute_result"
    },
    {
     "data": {
      "image/png": "[encoded data removed]",
      "text/plain": [
       "<Figure size 864x576 with 2 Axes>"
      ]
     },
     "metadata": {
      "needs_background": "light"
     },
     "output_type": "display_data"
    }
   ],
   "source": [
    "plt.figure(figsize=(12,8))\n",
    "sns.heatmap(dfcorr,cmap='Blues',annot=True)"
   ]
  },
  {
   "cell_type": "markdown",
   "metadata": {},
   "source": [
    "# visualization process"
   ]
  },
  {
   "cell_type": "code",
   "execution_count": 13,
   "metadata": {},
   "outputs": [
    {
     "data": {
      "text/plain": [
       "173372    2\n",
       "136817    2\n",
       "174027    2\n",
       "66212     1\n",
       "115356    1\n",
       "         ..\n",
       "60737     1\n",
       "175424    1\n",
       "197951    1\n",
       "53311     1\n",
       "186371    1\n",
       "Name: Salary, Length: 997, dtype: int64"
      ]
     },
     "execution_count": 13,
     "metadata": {},
     "output_type": "execute_result"
    }
   ],
   "source": [
    "df['Salary'].value_counts()"
   ]
  },
  {
   "cell_type": "code",
   "execution_count": 14,
   "metadata": {},
   "outputs": [],
   "source": [
    "import matplotlib.pyplot as plt"
   ]
  },
  {
   "cell_type": "code",
   "execution_count": 15,
   "metadata": {},
   "outputs": [
    {
     "data": {
      "text/plain": [
       "<matplotlib.axes._subplots.AxesSubplot at 0x1b19d221d90>"
      ]
     },
     "execution_count": 15,
     "metadata": {},
     "output_type": "execute_result"
    },
    {
     "data": {
      "image/png": "[encoded data removed]",
      "text/plain": [
       "<Figure size 432x288 with 1 Axes>"
      ]
     },
     "metadata": {
      "needs_background": "light"
     },
     "output_type": "display_data"
    }
   ],
   "source": [
    "sns.boxplot(df['Salary'])"
   ]
  },
  {
   "cell_type": "code",
   "execution_count": 16,
   "metadata": {},
   "outputs": [
    {
     "data": {
      "text/plain": [
       "22.39    3\n",
       "33.44    3\n",
       "50.46    3\n",
       "58.10    3\n",
       "54.27    3\n",
       "        ..\n",
       "51.31    1\n",
       "23.47    1\n",
       "55.29    1\n",
       "45.87    1\n",
       "23.25    1\n",
       "Name: Age in Yrs., Length: 889, dtype: int64"
      ]
     },
     "execution_count": 16,
     "metadata": {},
     "output_type": "execute_result"
    }
   ],
   "source": [
    "df['Age in Yrs.'].value_counts()"
   ]
  },
  {
   "cell_type": "code",
   "execution_count": 17,
   "metadata": {},
   "outputs": [
    {
     "data": {
      "text/plain": [
       "<matplotlib.axes._subplots.AxesSubplot at 0x1b19d449a30>"
      ]
     },
     "execution_count": 17,
     "metadata": {},
     "output_type": "execute_result"
    },
    {
     "data": {
      "image/png": "[encoded data removed]",
      "text/plain": [
       "<Figure size 432x288 with 1 Axes>"
      ]
     },
     "metadata": {
      "needs_background": "light"
     },
     "output_type": "display_data"
    }
   ],
   "source": [
    "sns.boxplot(df['Age in Yrs.'])"
   ]
  },
  {
   "cell_type": "code",
   "execution_count": 18,
   "metadata": {},
   "outputs": [
    {
     "data": {
      "text/plain": [
       "<matplotlib.axes._subplots.AxesSubplot at 0x1b19d496700>"
      ]
     },
     "execution_count": 18,
     "metadata": {},
     "output_type": "execute_result"
    },
    {
     "data": {
      "image/png": "[encoded data removed]",
      "text/plain": [
       "<Figure size 432x288 with 1 Axes>"
      ]
     },
     "metadata": {
      "needs_background": "light"
     },
     "output_type": "display_data"
    }
   ],
   "source": [
    "sns.boxplot(df['Weight in Kgs.'])"
   ]
  },
  {
   "cell_type": "code",
   "execution_count": 19,
   "metadata": {},
   "outputs": [
    {
     "data": {
      "text/plain": [
       "<matplotlib.axes._subplots.AxesSubplot at 0x1b19d4fc7c0>"
      ]
     },
     "execution_count": 19,
     "metadata": {},
     "output_type": "execute_result"
    },
    {
     "data": {
      "image/png": "[encoded data removed]",
      "text/plain": [
       "<Figure size 432x288 with 1 Axes>"
      ]
     },
     "metadata": {
      "needs_background": "light"
     },
     "output_type": "display_data"
    }
   ],
   "source": [
    "sns.boxplot(df['Year of Joining'])"
   ]
  },
  {
   "cell_type": "code",
   "execution_count": 20,
   "metadata": {},
   "outputs": [
    {
     "data": {
      "text/plain": [
       "<matplotlib.axes._subplots.AxesSubplot at 0x1b19d5583a0>"
      ]
     },
     "execution_count": 20,
     "metadata": {},
     "output_type": "execute_result"
    },
    {
     "data": {
      "image/png": "[encoded data removed]",
      "text/plain": [
       "<Figure size 432x288 with 1 Axes>"
      ]
     },
     "metadata": {
      "needs_background": "light"
     },
     "output_type": "display_data"
    }
   ],
   "source": [
    "sns.boxplot(df['Month of Joining'])"
   ]
  },
  {
   "cell_type": "code",
   "execution_count": 21,
   "metadata": {},
   "outputs": [
    {
     "data": {
      "text/plain": [
       "<matplotlib.axes._subplots.AxesSubplot at 0x1b19d5adfa0>"
      ]
     },
     "execution_count": 21,
     "metadata": {},
     "output_type": "execute_result"
    },
    {
     "data": {
      "image/png": "[encoded data removed]",
      "text/plain": [
       "<Figure size 432x288 with 1 Axes>"
      ]
     },
     "metadata": {
      "needs_background": "light"
     },
     "output_type": "display_data"
    }
   ],
   "source": [
    "sns.boxplot(df['Day of Joining'])"
   ]
  },
  {
   "cell_type": "code",
   "execution_count": 22,
   "metadata": {},
   "outputs": [
    {
     "data": {
      "text/plain": [
       "<matplotlib.axes._subplots.AxesSubplot at 0x1b19d1ff7f0>"
      ]
     },
     "execution_count": 22,
     "metadata": {},
     "output_type": "execute_result"
    },
    {
     "data": {
      "image/png": "[encoded data removed]",
      "text/plain": [
       "<Figure size 432x288 with 1 Axes>"
      ]
     },
     "metadata": {
      "needs_background": "light"
     },
     "output_type": "display_data"
    }
   ],
   "source": [
    "sns.boxplot(df['Age in Company (Years)'])"
   ]
  },
  {
   "cell_type": "code",
   "execution_count": 23,
   "metadata": {},
   "outputs": [
    {
     "data": {
      "text/plain": [
       "<matplotlib.axes._subplots.AxesSubplot at 0x1b19ce5ef70>"
      ]
     },
     "execution_count": 23,
     "metadata": {},
     "output_type": "execute_result"
    },
    {
     "data": {
      "image/png": "[encoded data removed]",
      "text/plain": [
       "<Figure size 432x288 with 1 Axes>"
      ]
     },
     "metadata": {
      "needs_background": "light"
     },
     "output_type": "display_data"
    }
   ],
   "source": [
    "sns.boxplot(df['Zip'])"
   ]
  },
  {
   "cell_type": "code",
   "execution_count": 24,
   "metadata": {},
   "outputs": [
    {
     "data": {
      "text/plain": [
       "<matplotlib.axes._subplots.AxesSubplot at 0x1b19ce5e790>"
      ]
     },
     "execution_count": 24,
     "metadata": {},
     "output_type": "execute_result"
    },
    {
     "data": {
      "image/png": "[encoded data removed]",
      "text/plain": [
       "<Figure size 432x288 with 1 Axes>"
      ]
     },
     "metadata": {
      "needs_background": "light"
     },
     "output_type": "display_data"
    }
   ],
   "source": [
    "sns.boxplot(df['Emp ID'])"
   ]
  },
  {
   "cell_type": "raw",
   "metadata": {},
   "source": [
    "some outliers are present in age in company and year of joining"
   ]
  },
  {
   "cell_type": "markdown",
   "metadata": {},
   "source": [
    "# checking distribution of skewness"
   ]
  },
  {
   "cell_type": "code",
   "execution_count": 25,
   "metadata": {},
   "outputs": [],
   "source": [
    "import seaborn as sns\n",
    "import numpy as ny\n",
    "import matplotlib.pyplot as plt"
   ]
  },
  {
   "cell_type": "code",
   "execution_count": 26,
   "metadata": {},
   "outputs": [
    {
     "data": {
      "image/png": "[encoded data removed]",
      "text/plain": [
       "<Figure size 432x288 with 1 Axes>"
      ]
     },
     "metadata": {
      "needs_background": "light"
     },
     "output_type": "display_data"
    }
   ],
   "source": [
    "sns.distplot(df['Emp ID'])\n",
    "plt.show()"
   ]
  },
  {
   "cell_type": "code",
   "execution_count": 27,
   "metadata": {},
   "outputs": [
    {
     "data": {
      "image/png": "[encoded data removed]",
      "text/plain": [
       "<Figure size 432x288 with 1 Axes>"
      ]
     },
     "metadata": {
      "needs_background": "light"
     },
     "output_type": "display_data"
    }
   ],
   "source": [
    "sns.distplot(df['Weight in Kgs.'])\n",
    "plt.show()"
   ]
  },
  {
   "cell_type": "code",
   "execution_count": 28,
   "metadata": {},
   "outputs": [
    {
     "data": {
      "image/png": "[encoded data removed]",
      "text/plain": [
       "<Figure size 432x288 with 1 Axes>"
      ]
     },
     "metadata": {
      "needs_background": "light"
     },
     "output_type": "display_data"
    }
   ],
   "source": [
    "sns.distplot(df['Age in Yrs.'])\n",
    "plt.show()"
   ]
  },
  {
   "cell_type": "code",
   "execution_count": 29,
   "metadata": {},
   "outputs": [
    {
     "data": {
      "image/png": "[encoded data removed]",
      "text/plain": [
       "<Figure size 432x288 with 1 Axes>"
      ]
     },
     "metadata": {
      "needs_background": "light"
     },
     "output_type": "display_data"
    }
   ],
   "source": [
    "sns.distplot(df['Year of Joining'])\n",
    "plt.show()"
   ]
  },
  {
   "cell_type": "code",
   "execution_count": 30,
   "metadata": {},
   "outputs": [
    {
     "data": {
      "image/png": "[encoded data removed]",
      "text/plain": [
       "<Figure size 432x288 with 1 Axes>"
      ]
     },
     "metadata": {
      "needs_background": "light"
     },
     "output_type": "display_data"
    }
   ],
   "source": [
    "sns.distplot(df['Month of Joining'])\n",
    "plt.show()"
   ]
  },
  {
   "cell_type": "code",
   "execution_count": 31,
   "metadata": {},
   "outputs": [
    {
     "data": {
      "image/png": "[encoded data removed]",
      "text/plain": [
       "<Figure size 432x288 with 1 Axes>"
      ]
     },
     "metadata": {
      "needs_background": "light"
     },
     "output_type": "display_data"
    }
   ],
   "source": [
    "sns.distplot(df['Day of Joining'])\n",
    "plt.show()"
   ]
  },
  {
   "cell_type": "code",
   "execution_count": 32,
   "metadata": {},
   "outputs": [
    {
     "data": {
      "image/png": "[encoded data removed]",
      "text/plain": [
       "<Figure size 432x288 with 1 Axes>"
      ]
     },
     "metadata": {
      "needs_background": "light"
     },
     "output_type": "display_data"
    }
   ],
   "source": [
    "sns.distplot(df['Age in Company (Years)'])\n",
    "plt.show()"
   ]
  },
  {
   "cell_type": "code",
   "execution_count": 33,
   "metadata": {},
   "outputs": [
    {
     "data": {
      "image/png": "[encoded data removed]",
      "text/plain": [
       "<Figure size 432x288 with 1 Axes>"
      ]
     },
     "metadata": {
      "needs_background": "light"
     },
     "output_type": "display_data"
    }
   ],
   "source": [
    "sns.distplot(df['Salary'])\n",
    "plt.show()"
   ]
  },
  {
   "cell_type": "code",
   "execution_count": 34,
   "metadata": {},
   "outputs": [
    {
     "data": {
      "image/png": "[encoded data removed]",
      "text/plain": [
       "<Figure size 432x288 with 1 Axes>"
      ]
     },
     "metadata": {
      "needs_background": "light"
     },
     "output_type": "display_data"
    }
   ],
   "source": [
    "sns.distplot(df['Zip'])\n",
    "plt.show()"
   ]
  },
  {
   "cell_type": "raw",
   "metadata": {},
   "source": [
    "two values are neagatively skewed year of joining and day of joining"
   ]
  },
  {
   "cell_type": "code",
   "execution_count": null,
   "metadata": {},
   "outputs": [],
   "source": []
  },
  {
   "cell_type": "markdown",
   "metadata": {},
   "source": [
    "# dropping the columns"
   ]
  },
  {
   "cell_type": "code",
   "execution_count": 35,
   "metadata": {},
   "outputs": [
    {
     "data": {
      "text/plain": [
       "Index(['Emp ID', 'Name Prefix', 'First Name', 'Middle Initial', 'Last Name',\n",
       "       'Gender', 'E Mail', 'Father's Name', 'Mother's Name',\n",
       "       'Mother's Maiden Name', 'Date of Birth', 'Time of Birth', 'Age in Yrs.',\n",
       "       'Weight in Kgs.', 'Date of Joining', 'Quarter of Joining',\n",
       "       'Half of Joining', 'Year of Joining', 'Month of Joining',\n",
       "       'Month Name of Joining', 'Short Month', 'Day of Joining',\n",
       "       'DOW of Joining', 'Short DOW', 'Age in Company (Years)', 'Salary',\n",
       "       'Last % Hike', 'SSN', 'Phone No. ', 'Place Name', 'County', 'City',\n",
       "       'State', 'Zip', 'Region', 'User Name', 'Password'],\n",
       "      dtype='object')"
      ]
     },
     "execution_count": 35,
     "metadata": {},
     "output_type": "execute_result"
    }
   ],
   "source": [
    "df.columns"
   ]
  },
  {
   "cell_type": "code",
   "execution_count": 36,
   "metadata": {},
   "outputs": [
    {
     "name": "stdout",
     "output_type": "stream",
     "text": [
      "<class 'pandas.core.frame.DataFrame'>\n",
      "RangeIndex: 1000 entries, 0 to 999\n",
      "Data columns (total 37 columns):\n",
      " #   Column                  Non-Null Count  Dtype  \n",
      "---  ------                  --------------  -----  \n",
      " 0   Emp ID                  1000 non-null   int64  \n",
      " 1   Name Prefix             1000 non-null   object \n",
      " 2   First Name              1000 non-null   object \n",
      " 3   Middle Initial          1000 non-null   object \n",
      " 4   Last Name               1000 non-null   object \n",
      " 5   Gender                  1000 non-null   object \n",
      " 6   E Mail                  1000 non-null   object \n",
      " 7   Father's Name           1000 non-null   object \n",
      " 8   Mother's Name           1000 non-null   object \n",
      " 9   Mother's Maiden Name    1000 non-null   object \n",
      " 10  Date of Birth           1000 non-null   object \n",
      " 11  Time of Birth           1000 non-null   object \n",
      " 12  Age in Yrs.             1000 non-null   float64\n",
      " 13  Weight in Kgs.          1000 non-null   int64  \n",
      " 14  Date of Joining         1000 non-null   object \n",
      " 15  Quarter of Joining      1000 non-null   object \n",
      " 16  Half of Joining         1000 non-null   object \n",
      " 17  Year of Joining         1000 non-null   int64  \n",
      " 18  Month of Joining        1000 non-null   int64  \n",
      " 19  Month Name of Joining   1000 non-null   object \n",
      " 20  Short Month             1000 non-null   object \n",
      " 21  Day of Joining          1000 non-null   int64  \n",
      " 22  DOW of Joining          1000 non-null   object \n",
      " 23  Short DOW               1000 non-null   object \n",
      " 24  Age in Company (Years)  1000 non-null   float64\n",
      " 25  Salary                  1000 non-null   int64  \n",
      " 26  Last % Hike             1000 non-null   object \n",
      " 27  SSN                     1000 non-null   object \n",
      " 28  Phone No.               1000 non-null   object \n",
      " 29  Place Name              1000 non-null   object \n",
      " 30  County                  1000 non-null   object \n",
      " 31  City                    1000 non-null   object \n",
      " 32  State                   1000 non-null   object \n",
      " 33  Zip                     1000 non-null   int64  \n",
      " 34  Region                  1000 non-null   object \n",
      " 35  User Name               1000 non-null   object \n",
      " 36  Password                1000 non-null   object \n",
      "dtypes: float64(2), int64(7), object(28)\n",
      "memory usage: 289.2+ KB\n"
     ]
    }
   ],
   "source": [
    "df.info()"
   ]
  },
  {
   "cell_type": "code",
   "execution_count": 37,
   "metadata": {},
   "outputs": [],
   "source": [
    "df.drop(['Name Prefix','First Name','Last Name'],axis=1,inplace=True)"
   ]
  },
  {
   "cell_type": "code",
   "execution_count": 47,
   "metadata": {},
   "outputs": [],
   "source": [
    "df.drop(['Middle Initial','Password','User Name'],axis=1,inplace=True)"
   ]
  },
  {
   "cell_type": "code",
   "execution_count": 48,
   "metadata": {},
   "outputs": [],
   "source": [
    "df.drop(['State','City','County'],axis=1,inplace=True)"
   ]
  },
  {
   "cell_type": "code",
   "execution_count": 51,
   "metadata": {},
   "outputs": [],
   "source": [
    "df.drop(['Place Name','SSN'],axis=1,inplace=True)"
   ]
  },
  {
   "cell_type": "code",
   "execution_count": 52,
   "metadata": {},
   "outputs": [],
   "source": [
    "df.drop(['Last % Hike','Short DOW', 'DOW of Joining'],axis=1,inplace=True)"
   ]
  },
  {
   "cell_type": "code",
   "execution_count": 53,
   "metadata": {},
   "outputs": [],
   "source": [
    "df.drop(['Short Month','Month Name of Joining', 'Half of Joining'],axis=1,inplace=True)"
   ]
  },
  {
   "cell_type": "code",
   "execution_count": 54,
   "metadata": {},
   "outputs": [],
   "source": [
    "df.drop(['Quarter of Joining','Date of Joining', 'Time of Birth'],axis=1,inplace=True)"
   ]
  },
  {
   "cell_type": "code",
   "execution_count": 56,
   "metadata": {},
   "outputs": [
    {
     "data": {
      "text/html": [
       "<div>\n",
       "<style scoped>\n",
       "    .dataframe tbody tr th:only-of-type {\n",
       "        vertical-align: middle;\n",
       "    }\n",
       "\n",
       "    .dataframe tbody tr th {\n",
       "        vertical-align: top;\n",
       "    }\n",
       "\n",
       "    .dataframe thead th {\n",
       "        text-align: right;\n",
       "    }\n",
       "</style>\n",
       "<table border=\"1\" class=\"dataframe\">\n",
       "  <thead>\n",
       "    <tr style=\"text-align: right;\">\n",
       "      <th></th>\n",
       "      <th>Emp ID</th>\n",
       "      <th>Gender</th>\n",
       "      <th>E Mail</th>\n",
       "      <th>Father's Name</th>\n",
       "      <th>Mother's Name</th>\n",
       "      <th>Mother's Maiden Name</th>\n",
       "      <th>Date of Birth</th>\n",
       "      <th>Age in Yrs.</th>\n",
       "      <th>Weight in Kgs.</th>\n",
       "      <th>Year of Joining</th>\n",
       "      <th>Month of Joining</th>\n",
       "      <th>Day of Joining</th>\n",
       "      <th>Age in Company (Years)</th>\n",
       "      <th>Salary</th>\n",
       "      <th>Phone No.</th>\n",
       "      <th>Zip</th>\n",
       "      <th>Region</th>\n",
       "    </tr>\n",
       "  </thead>\n",
       "  <tbody>\n",
       "    <tr>\n",
       "      <th>0</th>\n",
       "      <td>850297</td>\n",
       "      <td>F</td>\n",
       "      <td>shawna.buck@gmail.com</td>\n",
       "      <td>Rosario Buck</td>\n",
       "      <td>Keisha Buck</td>\n",
       "      <td>Hendricks</td>\n",
       "      <td>12/12/1971</td>\n",
       "      <td>45.66</td>\n",
       "      <td>44</td>\n",
       "      <td>2010</td>\n",
       "      <td>12</td>\n",
       "      <td>18</td>\n",
       "      <td>6.61</td>\n",
       "      <td>119090</td>\n",
       "      <td>702-771-7149</td>\n",
       "      <td>89128</td>\n",
       "      <td>West</td>\n",
       "    </tr>\n",
       "    <tr>\n",
       "      <th>1</th>\n",
       "      <td>304721</td>\n",
       "      <td>M</td>\n",
       "      <td>nathaniel.burke@walmart.com</td>\n",
       "      <td>Derrick Burke</td>\n",
       "      <td>Phoebe Burke</td>\n",
       "      <td>Pugh</td>\n",
       "      <td>10/31/1993</td>\n",
       "      <td>23.76</td>\n",
       "      <td>52</td>\n",
       "      <td>2017</td>\n",
       "      <td>4</td>\n",
       "      <td>25</td>\n",
       "      <td>0.26</td>\n",
       "      <td>117991</td>\n",
       "      <td>231-765-6923</td>\n",
       "      <td>49644</td>\n",
       "      <td>Midwest</td>\n",
       "    </tr>\n",
       "    <tr>\n",
       "      <th>2</th>\n",
       "      <td>412317</td>\n",
       "      <td>F</td>\n",
       "      <td>elisabeth.foster@gmail.com</td>\n",
       "      <td>Irwin Foster</td>\n",
       "      <td>Janie Foster</td>\n",
       "      <td>Delaney</td>\n",
       "      <td>11/26/1994</td>\n",
       "      <td>22.68</td>\n",
       "      <td>42</td>\n",
       "      <td>2017</td>\n",
       "      <td>3</td>\n",
       "      <td>27</td>\n",
       "      <td>0.34</td>\n",
       "      <td>161045</td>\n",
       "      <td>270-749-4774</td>\n",
       "      <td>40501</td>\n",
       "      <td>South</td>\n",
       "    </tr>\n",
       "    <tr>\n",
       "      <th>3</th>\n",
       "      <td>621375</td>\n",
       "      <td>F</td>\n",
       "      <td>briana.lancaster@yahoo.com</td>\n",
       "      <td>Jeffrey Lancaster</td>\n",
       "      <td>Shelby Lancaster</td>\n",
       "      <td>Weiss</td>\n",
       "      <td>11/24/1975</td>\n",
       "      <td>41.70</td>\n",
       "      <td>43</td>\n",
       "      <td>2003</td>\n",
       "      <td>2</td>\n",
       "      <td>25</td>\n",
       "      <td>14.43</td>\n",
       "      <td>142616</td>\n",
       "      <td>219-623-8216</td>\n",
       "      <td>46321</td>\n",
       "      <td>Midwest</td>\n",
       "    </tr>\n",
       "    <tr>\n",
       "      <th>4</th>\n",
       "      <td>787549</td>\n",
       "      <td>F</td>\n",
       "      <td>estella.potter@gmail.com</td>\n",
       "      <td>Booker Potter</td>\n",
       "      <td>Katelyn Potter</td>\n",
       "      <td>Pate</td>\n",
       "      <td>3/13/1995</td>\n",
       "      <td>22.39</td>\n",
       "      <td>58</td>\n",
       "      <td>2016</td>\n",
       "      <td>10</td>\n",
       "      <td>11</td>\n",
       "      <td>0.79</td>\n",
       "      <td>135706</td>\n",
       "      <td>907-677-8486</td>\n",
       "      <td>99709</td>\n",
       "      <td>West</td>\n",
       "    </tr>\n",
       "  </tbody>\n",
       "</table>\n",
       "</div>"
      ],
      "text/plain": [
       "   Emp ID Gender                       E Mail      Father's Name  \\\n",
       "0  850297      F        shawna.buck@gmail.com       Rosario Buck   \n",
       "1  304721      M  nathaniel.burke@walmart.com      Derrick Burke   \n",
       "2  412317      F   elisabeth.foster@gmail.com       Irwin Foster   \n",
       "3  621375      F   briana.lancaster@yahoo.com  Jeffrey Lancaster   \n",
       "4  787549      F     estella.potter@gmail.com      Booker Potter   \n",
       "\n",
       "      Mother's Name Mother's Maiden Name Date of Birth  Age in Yrs.  \\\n",
       "0       Keisha Buck            Hendricks    12/12/1971        45.66   \n",
       "1      Phoebe Burke                 Pugh    10/31/1993        23.76   \n",
       "2      Janie Foster              Delaney    11/26/1994        22.68   \n",
       "3  Shelby Lancaster                Weiss    11/24/1975        41.70   \n",
       "4    Katelyn Potter                 Pate     3/13/1995        22.39   \n",
       "\n",
       "   Weight in Kgs.  Year of Joining  Month of Joining  Day of Joining  \\\n",
       "0              44             2010                12              18   \n",
       "1              52             2017                 4              25   \n",
       "2              42             2017                 3              27   \n",
       "3              43             2003                 2              25   \n",
       "4              58             2016                10              11   \n",
       "\n",
       "   Age in Company (Years)  Salary    Phone No.     Zip   Region  \n",
       "0                    6.61  119090  702-771-7149  89128     West  \n",
       "1                    0.26  117991  231-765-6923  49644  Midwest  \n",
       "2                    0.34  161045  270-749-4774  40501    South  \n",
       "3                   14.43  142616  219-623-8216  46321  Midwest  \n",
       "4                    0.79  135706  907-677-8486  99709     West  "
      ]
     },
     "execution_count": 56,
     "metadata": {},
     "output_type": "execute_result"
    }
   ],
   "source": [
    "df.head()"
   ]
  },
  {
   "cell_type": "code",
   "execution_count": 58,
   "metadata": {},
   "outputs": [
    {
     "data": {
      "text/plain": [
       "Emp ID                      int64\n",
       "Gender                     object\n",
       "E Mail                     object\n",
       "Father's Name              object\n",
       "Mother's Name              object\n",
       "Mother's Maiden Name       object\n",
       "Date of Birth              object\n",
       "Age in Yrs.               float64\n",
       "Weight in Kgs.              int64\n",
       "Year of Joining             int64\n",
       "Month of Joining            int64\n",
       "Day of Joining              int64\n",
       "Age in Company (Years)    float64\n",
       "Salary                      int64\n",
       "Phone No.                  object\n",
       "Zip                         int64\n",
       "Region                     object\n",
       "dtype: object"
      ]
     },
     "execution_count": 58,
     "metadata": {},
     "output_type": "execute_result"
    }
   ],
   "source": [
    "df.dtypes"
   ]
  },
  {
   "cell_type": "code",
   "execution_count": 61,
   "metadata": {},
   "outputs": [],
   "source": [
    "from sklearn.preprocessing import LabelEncoder\n",
    "labelencoder = LabelEncoder()\n",
    "\n",
    "#encoding the gender column\n",
    "df.iloc[:,1] = labelencoder.fit_transform(df.iloc[:,1].values)\n",
    "\n",
    "#encoding the E mail column\n",
    "df.iloc[:,2] = labelencoder.fit_transform(df.iloc[:,2].values)\n",
    "df.iloc[:,3] = labelencoder.fit_transform(df.iloc[:,3].values)\n",
    "df.iloc[:,4] = labelencoder.fit_transform(df.iloc[:,4].values)\n",
    "df.iloc[:,5] = labelencoder.fit_transform(df.iloc[:,5].values)\n",
    "df.iloc[:,6] = labelencoder.fit_transform(df.iloc[:,6].values)\n",
    "df.iloc[:,14] = labelencoder.fit_transform(df.iloc[:,14].values)\n",
    "df.iloc[:,16] = labelencoder.fit_transform(df.iloc[:,16].values)\n"
   ]
  },
  {
   "cell_type": "code",
   "execution_count": 63,
   "metadata": {},
   "outputs": [
    {
     "name": "stdout",
     "output_type": "stream",
     "text": [
      "[0 1]\n",
      "[879 730 300 118 335 554 685 873 452 632  95 804  46 672  88 186 951 947\n",
      " 993 135  15 663  52 926 488 525 251  10  71 464 865 428 642  79 645 851\n",
      "  99 647 786 628 938 852 834 140 945 572 180 507 582 812 595 518 669 381\n",
      " 695 138 100 296  18 323 364 924 168 382 256 197 776 972 210 203 115 697\n",
      " 331 775 355 660 970 275 703   3  80 731 741 486 114 137  50 743 797 462\n",
      " 925 267 750 216 733 638 259 611 455 198 269 913 465 310 900 839 394 497\n",
      "  11 723 961 110 313 998 928  56 148 170 817 117 739 295 189 844 858  21\n",
      " 116 260 505 662 212 578 930  23 648 986 264 545 373 665 426 810 884 483\n",
      " 281  90 997 822 143 892 559 330 134 314 863 833 950 470 429 443 162 508\n",
      "  47 768 401   9 442 787 235 522 419 453 119 857 932 221 336 567 962 450\n",
      " 439 122 372  59 622 472 716  38  62  35 855 535 912 395 232 496 270 101\n",
      " 109 823 541 566 478 568 454 624 274 712 255 161 615 614  13 448 519 241\n",
      " 517 279 929 169 585 172 704 696 447 896  97 242 219  40 876 836 527 261\n",
      " 315 556 463 273 357 780  25 474 908 761 606 239 546 899 359 778   6 840\n",
      " 200 901 715 800 871   2 565 353 866 905 211 676 282 104 441  16 717 711\n",
      " 257 921 344 540 740 830 120 249 601 819 612 927 877 233 681   5 397 766\n",
      " 821 307 250 674 829 399 684 693 127 549 479 558 977 680 509 751 155 192\n",
      " 105 583 967 641 297 352 555 742 749   0 424 795 868 363 911  92 748 165\n",
      " 803 477 125 753 671 410 619 837 460 888 652 534 480 602 698 436  32 906\n",
      " 316  44 710 832 670 584 171 954 318 736 705 590  67 188 644 714 754 311\n",
      " 529 848 139 190 764 412 722 991 702  39 591 102 292  89 984 963 285 421\n",
      " 220 600 763 386 361 735 495 499 756 948 491 581 435 657 562 340 113 709\n",
      " 369 691 734 433 958 587 532 613 217 982 132 790 103 542 658 437 732 142\n",
      " 937 737   8 550 258 577 416 539 918  30 904 482 802 515 955  81 964 943\n",
      " 329 878 317 328 145 649 528 121 543 415 688 407 224 444 338 942 531  42\n",
      " 869 286 252 370 194  45 770 164 944 223 798 365 728 939  75 842 980  29\n",
      " 594 655 354 387 451 784 182 214 757 917 262   1  58 806 160 635 367 789\n",
      "  86 230 490  48 405 278 990 870 668 850 894 289 656 738 861 163 346 960\n",
      "  49 651 503 724 719 621 793 856 885 196 146 759 881 136 280 538 563 808\n",
      " 785 427 747 131 309 380 356 640 729 185 236 985  26 375 920 887 475  31\n",
      " 610 530 400 838 510 605 506  61 846 306 351 874 438 201 154 471 342 374\n",
      " 228 371 467  24 238 362 293 500 907 813 989 860 390 637 824 987 828 682\n",
      "  37 788   7 571 915 772  12 820  87 598 199 305 481 771 957 916 106 794\n",
      " 843 760 378 553 650 936 288 593 604 246 207 332 445 409 845 933 449 321\n",
      " 706 707 347 854 536 687 523 561 886 818 469 686 489 308 625  73 287 994\n",
      " 875  83 811 956 978 358  69 679 304 629 673 511 213 923 537 521  53 345\n",
      " 413 816 653 694 777 814 792  84  94  91 126  43 502 204 919 141 801 779\n",
      " 265 825 551 847 597 388 348  72 609  55 809 853 414 290 178  33 664 157\n",
      " 456 124  70  28 791 263 226 167 403 975 524 981 627 343  82 867 392 337\n",
      " 746 999 864 692 417 377  22 773 883 678 202 796  34 294 898 576 971 487\n",
      " 112 552 325 501 726 910 179 193  20 237 675 173 889 384 634 151 979 240\n",
      " 968 769 430 459 209 349 513 745 755 805 283 244 862 492 831 699 322 841\n",
      " 575 988 404 147 334 689 476 206 654 350 291 752 765 177  51 298  27 446\n",
      " 880  14 599 368 727 303 782 514 589 301 914  66 720 366 234 690 153 946\n",
      " 516 218 243 284 411 564 895 560 398 548 636 608 253 607 494 423 557  74\n",
      " 389  78 616 440 225 176 872 181 758 504 859 592 718 174 149 725 266 890\n",
      " 935 191 940 931  98 108 195 969 133 744 473 520 633 245 700 666  96 152\n",
      " 953 227 909 187 661 959 922 579 721 184 683 222 150 408 965 667 995 248\n",
      " 341 231  57 324 623 205 996 974 159 701 533 573 646  68 774 992 586 333\n",
      " 891 713 326 431 299 570 376 617  85 569 208 276 512 166 327 360  41 643\n",
      " 952 574  60 639 457  65 229 799 815 626 247 432 708 466 111 835 580  36\n",
      " 156 144 391 468 493 547 897  54 826 893 319 631 966 983 807 422 544 215\n",
      "  76 277 603 498 630 123 396 434 458 461 254  93 402 484 129 268  64 418\n",
      "   4 903 175 849 130 272  63  17 406 320 302 677 618 271 976 420 781 485\n",
      "  77 827 934 128 312 158 941 385 588 383 973 949 379 393 767 596 425 882\n",
      "  19 526 762 902 183 107 620 339 659 783]\n",
      "[3 0 2 1]\n"
     ]
    },
    {
     "ename": "KeyError",
     "evalue": "'Phone No'",
     "output_type": "error",
     "traceback": [
      "\u001b[1;31m---------------------------------------------------------------------------\u001b[0m",
      "\u001b[1;31mKeyError\u001b[0m                                  Traceback (most recent call last)",
      "\u001b[1;32mC:\\ProgramData\\Anaconda3\\lib\\site-packages\\pandas\\core\\indexes\\base.py\u001b[0m in \u001b[0;36mget_loc\u001b[1;34m(self, key, method, tolerance)\u001b[0m\n\u001b[0;32m   2645\u001b[0m             \u001b[1;32mtry\u001b[0m\u001b[1;33m:\u001b[0m\u001b[1;33m\u001b[0m\u001b[1;33m\u001b[0m\u001b[0m\n\u001b[1;32m-> 2646\u001b[1;33m                 \u001b[1;32mreturn\u001b[0m \u001b[0mself\u001b[0m\u001b[1;33m.\u001b[0m\u001b[0m_engine\u001b[0m\u001b[1;33m.\u001b[0m\u001b[0mget_loc\u001b[0m\u001b[1;33m(\u001b[0m\u001b[0mkey\u001b[0m\u001b[1;33m)\u001b[0m\u001b[1;33m\u001b[0m\u001b[1;33m\u001b[0m\u001b[0m\n\u001b[0m\u001b[0;32m   2647\u001b[0m             \u001b[1;32mexcept\u001b[0m \u001b[0mKeyError\u001b[0m\u001b[1;33m:\u001b[0m\u001b[1;33m\u001b[0m\u001b[1;33m\u001b[0m\u001b[0m\n",
      "\u001b[1;32mpandas\\_libs\\index.pyx\u001b[0m in \u001b[0;36mpandas._libs.index.IndexEngine.get_loc\u001b[1;34m()\u001b[0m\n",
      "\u001b[1;32mpandas\\_libs\\index.pyx\u001b[0m in \u001b[0;36mpandas._libs.index.IndexEngine.get_loc\u001b[1;34m()\u001b[0m\n",
      "\u001b[1;32mpandas\\_libs\\hashtable_class_helper.pxi\u001b[0m in \u001b[0;36mpandas._libs.hashtable.PyObjectHashTable.get_item\u001b[1;34m()\u001b[0m\n",
      "\u001b[1;32mpandas\\_libs\\hashtable_class_helper.pxi\u001b[0m in \u001b[0;36mpandas._libs.hashtable.PyObjectHashTable.get_item\u001b[1;34m()\u001b[0m\n",
      "\u001b[1;31mKeyError\u001b[0m: 'Phone No'",
      "\nDuring handling of the above exception, another exception occurred:\n",
      "\u001b[1;31mKeyError\u001b[0m                                  Traceback (most recent call last)",
      "\u001b[1;32m<ipython-input-63-19dc54712f4e>\u001b[0m in \u001b[0;36m<module>\u001b[1;34m\u001b[0m\n\u001b[0;32m      2\u001b[0m \u001b[0mprint\u001b[0m\u001b[1;33m(\u001b[0m\u001b[0mdf\u001b[0m\u001b[1;33m[\u001b[0m\u001b[1;34m'E Mail'\u001b[0m\u001b[1;33m]\u001b[0m\u001b[1;33m.\u001b[0m\u001b[0munique\u001b[0m\u001b[1;33m(\u001b[0m\u001b[1;33m)\u001b[0m\u001b[1;33m)\u001b[0m\u001b[1;33m\u001b[0m\u001b[1;33m\u001b[0m\u001b[0m\n\u001b[0;32m      3\u001b[0m \u001b[0mprint\u001b[0m\u001b[1;33m(\u001b[0m\u001b[0mdf\u001b[0m\u001b[1;33m[\u001b[0m\u001b[1;34m'Region'\u001b[0m\u001b[1;33m]\u001b[0m\u001b[1;33m.\u001b[0m\u001b[0munique\u001b[0m\u001b[1;33m(\u001b[0m\u001b[1;33m)\u001b[0m\u001b[1;33m)\u001b[0m\u001b[1;33m\u001b[0m\u001b[1;33m\u001b[0m\u001b[0m\n\u001b[1;32m----> 4\u001b[1;33m \u001b[0mprint\u001b[0m\u001b[1;33m(\u001b[0m\u001b[0mdf\u001b[0m\u001b[1;33m[\u001b[0m\u001b[1;34m'Phone No'\u001b[0m\u001b[1;33m]\u001b[0m\u001b[1;33m.\u001b[0m\u001b[0munique\u001b[0m\u001b[1;33m(\u001b[0m\u001b[1;33m)\u001b[0m\u001b[1;33m)\u001b[0m\u001b[1;33m\u001b[0m\u001b[1;33m\u001b[0m\u001b[0m\n\u001b[0m",
      "\u001b[1;32mC:\\ProgramData\\Anaconda3\\lib\\site-packages\\pandas\\core\\frame.py\u001b[0m in \u001b[0;36m__getitem__\u001b[1;34m(self, key)\u001b[0m\n\u001b[0;32m   2798\u001b[0m             \u001b[1;32mif\u001b[0m \u001b[0mself\u001b[0m\u001b[1;33m.\u001b[0m\u001b[0mcolumns\u001b[0m\u001b[1;33m.\u001b[0m\u001b[0mnlevels\u001b[0m \u001b[1;33m>\u001b[0m \u001b[1;36m1\u001b[0m\u001b[1;33m:\u001b[0m\u001b[1;33m\u001b[0m\u001b[1;33m\u001b[0m\u001b[0m\n\u001b[0;32m   2799\u001b[0m                 \u001b[1;32mreturn\u001b[0m \u001b[0mself\u001b[0m\u001b[1;33m.\u001b[0m\u001b[0m_getitem_multilevel\u001b[0m\u001b[1;33m(\u001b[0m\u001b[0mkey\u001b[0m\u001b[1;33m)\u001b[0m\u001b[1;33m\u001b[0m\u001b[1;33m\u001b[0m\u001b[0m\n\u001b[1;32m-> 2800\u001b[1;33m             \u001b[0mindexer\u001b[0m \u001b[1;33m=\u001b[0m \u001b[0mself\u001b[0m\u001b[1;33m.\u001b[0m\u001b[0mcolumns\u001b[0m\u001b[1;33m.\u001b[0m\u001b[0mget_loc\u001b[0m\u001b[1;33m(\u001b[0m\u001b[0mkey\u001b[0m\u001b[1;33m)\u001b[0m\u001b[1;33m\u001b[0m\u001b[1;33m\u001b[0m\u001b[0m\n\u001b[0m\u001b[0;32m   2801\u001b[0m             \u001b[1;32mif\u001b[0m \u001b[0mis_integer\u001b[0m\u001b[1;33m(\u001b[0m\u001b[0mindexer\u001b[0m\u001b[1;33m)\u001b[0m\u001b[1;33m:\u001b[0m\u001b[1;33m\u001b[0m\u001b[1;33m\u001b[0m\u001b[0m\n\u001b[0;32m   2802\u001b[0m                 \u001b[0mindexer\u001b[0m \u001b[1;33m=\u001b[0m \u001b[1;33m[\u001b[0m\u001b[0mindexer\u001b[0m\u001b[1;33m]\u001b[0m\u001b[1;33m\u001b[0m\u001b[1;33m\u001b[0m\u001b[0m\n",
      "\u001b[1;32mC:\\ProgramData\\Anaconda3\\lib\\site-packages\\pandas\\core\\indexes\\base.py\u001b[0m in \u001b[0;36mget_loc\u001b[1;34m(self, key, method, tolerance)\u001b[0m\n\u001b[0;32m   2646\u001b[0m                 \u001b[1;32mreturn\u001b[0m \u001b[0mself\u001b[0m\u001b[1;33m.\u001b[0m\u001b[0m_engine\u001b[0m\u001b[1;33m.\u001b[0m\u001b[0mget_loc\u001b[0m\u001b[1;33m(\u001b[0m\u001b[0mkey\u001b[0m\u001b[1;33m)\u001b[0m\u001b[1;33m\u001b[0m\u001b[1;33m\u001b[0m\u001b[0m\n\u001b[0;32m   2647\u001b[0m             \u001b[1;32mexcept\u001b[0m \u001b[0mKeyError\u001b[0m\u001b[1;33m:\u001b[0m\u001b[1;33m\u001b[0m\u001b[1;33m\u001b[0m\u001b[0m\n\u001b[1;32m-> 2648\u001b[1;33m                 \u001b[1;32mreturn\u001b[0m \u001b[0mself\u001b[0m\u001b[1;33m.\u001b[0m\u001b[0m_engine\u001b[0m\u001b[1;33m.\u001b[0m\u001b[0mget_loc\u001b[0m\u001b[1;33m(\u001b[0m\u001b[0mself\u001b[0m\u001b[1;33m.\u001b[0m\u001b[0m_maybe_cast_indexer\u001b[0m\u001b[1;33m(\u001b[0m\u001b[0mkey\u001b[0m\u001b[1;33m)\u001b[0m\u001b[1;33m)\u001b[0m\u001b[1;33m\u001b[0m\u001b[1;33m\u001b[0m\u001b[0m\n\u001b[0m\u001b[0;32m   2649\u001b[0m         \u001b[0mindexer\u001b[0m \u001b[1;33m=\u001b[0m \u001b[0mself\u001b[0m\u001b[1;33m.\u001b[0m\u001b[0mget_indexer\u001b[0m\u001b[1;33m(\u001b[0m\u001b[1;33m[\u001b[0m\u001b[0mkey\u001b[0m\u001b[1;33m]\u001b[0m\u001b[1;33m,\u001b[0m \u001b[0mmethod\u001b[0m\u001b[1;33m=\u001b[0m\u001b[0mmethod\u001b[0m\u001b[1;33m,\u001b[0m \u001b[0mtolerance\u001b[0m\u001b[1;33m=\u001b[0m\u001b[0mtolerance\u001b[0m\u001b[1;33m)\u001b[0m\u001b[1;33m\u001b[0m\u001b[1;33m\u001b[0m\u001b[0m\n\u001b[0;32m   2650\u001b[0m         \u001b[1;32mif\u001b[0m \u001b[0mindexer\u001b[0m\u001b[1;33m.\u001b[0m\u001b[0mndim\u001b[0m \u001b[1;33m>\u001b[0m \u001b[1;36m1\u001b[0m \u001b[1;32mor\u001b[0m \u001b[0mindexer\u001b[0m\u001b[1;33m.\u001b[0m\u001b[0msize\u001b[0m \u001b[1;33m>\u001b[0m \u001b[1;36m1\u001b[0m\u001b[1;33m:\u001b[0m\u001b[1;33m\u001b[0m\u001b[1;33m\u001b[0m\u001b[0m\n",
      "\u001b[1;32mpandas\\_libs\\index.pyx\u001b[0m in \u001b[0;36mpandas._libs.index.IndexEngine.get_loc\u001b[1;34m()\u001b[0m\n",
      "\u001b[1;32mpandas\\_libs\\index.pyx\u001b[0m in \u001b[0;36mpandas._libs.index.IndexEngine.get_loc\u001b[1;34m()\u001b[0m\n",
      "\u001b[1;32mpandas\\_libs\\hashtable_class_helper.pxi\u001b[0m in \u001b[0;36mpandas._libs.hashtable.PyObjectHashTable.get_item\u001b[1;34m()\u001b[0m\n",
      "\u001b[1;32mpandas\\_libs\\hashtable_class_helper.pxi\u001b[0m in \u001b[0;36mpandas._libs.hashtable.PyObjectHashTable.get_item\u001b[1;34m()\u001b[0m\n",
      "\u001b[1;31mKeyError\u001b[0m: 'Phone No'"
     ]
    }
   ],
   "source": [
    "print(df['Gender'].unique())\n",
    "print(df['E Mail'].unique())\n",
    "print(df['Region'].unique())\n",
    "print(df['Phone No'].unique())"
   ]
  },
  {
   "cell_type": "code",
   "execution_count": 64,
   "metadata": {},
   "outputs": [
    {
     "data": {
      "text/plain": [
       "Emp ID                      int64\n",
       "Gender                      int64\n",
       "E Mail                      int64\n",
       "Father's Name               int32\n",
       "Mother's Name               int32\n",
       "Mother's Maiden Name        int32\n",
       "Date of Birth               int32\n",
       "Age in Yrs.               float64\n",
       "Weight in Kgs.              int64\n",
       "Year of Joining             int64\n",
       "Month of Joining            int64\n",
       "Day of Joining              int64\n",
       "Age in Company (Years)    float64\n",
       "Salary                      int64\n",
       "Phone No.                   int32\n",
       "Zip                         int64\n",
       "Region                      int32\n",
       "dtype: object"
      ]
     },
     "execution_count": 64,
     "metadata": {},
     "output_type": "execute_result"
    }
   ],
   "source": [
    "df.dtypes"
   ]
  },
  {
   "cell_type": "markdown",
   "metadata": {},
   "source": [
    "# removing outliers"
   ]
  },
  {
   "cell_type": "code",
   "execution_count": 65,
   "metadata": {},
   "outputs": [
    {
     "data": {
      "text/plain": [
       "array([[1.13798244, 1.01816496, 1.31462722, ..., 1.62986062, 1.47648194,\n",
       "        1.49185658],\n",
       "       [0.92329614, 0.98215912, 0.79847582, ..., 0.00173205, 0.03452962,\n",
       "        1.32296716],\n",
       "       [0.51678022, 1.01816496, 0.69108862, ..., 0.60448603, 0.29937197,\n",
       "        0.553582  ],\n",
       "       ...,\n",
       "       [0.71592375, 1.01816496, 0.55598859, ..., 1.24880926, 1.70484097,\n",
       "        1.49185658],\n",
       "       [0.96089586, 1.01816496, 0.55252448, ..., 1.65757345, 1.52611243,\n",
       "        0.38469258],\n",
       "       [0.45534656, 1.01816496, 0.9820733 , ..., 1.27998619, 0.91524389,\n",
       "        0.553582  ]])"
      ]
     },
     "execution_count": 65,
     "metadata": {},
     "output_type": "execute_result"
    }
   ],
   "source": [
    "from scipy.stats import zscore\n",
    "z=np.abs(zscore(df))\n",
    "z"
   ]
  },
  {
   "cell_type": "code",
   "execution_count": 66,
   "metadata": {},
   "outputs": [
    {
     "name": "stdout",
     "output_type": "stream",
     "text": [
      "(array([594, 594, 606, 621, 621, 684, 684, 895, 999, 999], dtype=int64), array([ 9, 12,  9,  9, 12,  9, 12,  9,  9, 12], dtype=int64))\n"
     ]
    }
   ],
   "source": [
    "threshold=3\n",
    "print(np.where(z>3))"
   ]
  },
  {
   "cell_type": "code",
   "execution_count": 67,
   "metadata": {},
   "outputs": [
    {
     "data": {
      "text/plain": [
       "1.172191656207105"
      ]
     },
     "execution_count": 67,
     "metadata": {},
     "output_type": "execute_result"
    }
   ],
   "source": [
    "z[13][6]"
   ]
  },
  {
   "cell_type": "code",
   "execution_count": 68,
   "metadata": {},
   "outputs": [
    {
     "data": {
      "text/plain": [
       "0.6633757909868584"
      ]
     },
     "execution_count": 68,
     "metadata": {},
     "output_type": "execute_result"
    }
   ],
   "source": [
    "z[40][4]"
   ]
  },
  {
   "cell_type": "code",
   "execution_count": 69,
   "metadata": {},
   "outputs": [],
   "source": [
    "df_new=df[(z<3).all(axis=1)]"
   ]
  },
  {
   "cell_type": "code",
   "execution_count": 70,
   "metadata": {},
   "outputs": [
    {
     "data": {
      "text/html": [
       "<div>\n",
       "<style scoped>\n",
       "    .dataframe tbody tr th:only-of-type {\n",
       "        vertical-align: middle;\n",
       "    }\n",
       "\n",
       "    .dataframe tbody tr th {\n",
       "        vertical-align: top;\n",
       "    }\n",
       "\n",
       "    .dataframe thead th {\n",
       "        text-align: right;\n",
       "    }\n",
       "</style>\n",
       "<table border=\"1\" class=\"dataframe\">\n",
       "  <thead>\n",
       "    <tr style=\"text-align: right;\">\n",
       "      <th></th>\n",
       "      <th>Emp ID</th>\n",
       "      <th>Gender</th>\n",
       "      <th>E Mail</th>\n",
       "      <th>Father's Name</th>\n",
       "      <th>Mother's Name</th>\n",
       "      <th>Mother's Maiden Name</th>\n",
       "      <th>Date of Birth</th>\n",
       "      <th>Age in Yrs.</th>\n",
       "      <th>Weight in Kgs.</th>\n",
       "      <th>Year of Joining</th>\n",
       "      <th>Month of Joining</th>\n",
       "      <th>Day of Joining</th>\n",
       "      <th>Age in Company (Years)</th>\n",
       "      <th>Salary</th>\n",
       "      <th>Phone No.</th>\n",
       "      <th>Zip</th>\n",
       "      <th>Region</th>\n",
       "    </tr>\n",
       "  </thead>\n",
       "  <tbody>\n",
       "    <tr>\n",
       "      <th>0</th>\n",
       "      <td>850297</td>\n",
       "      <td>0</td>\n",
       "      <td>879</td>\n",
       "      <td>810</td>\n",
       "      <td>510</td>\n",
       "      <td>262</td>\n",
       "      <td>260</td>\n",
       "      <td>45.66</td>\n",
       "      <td>44</td>\n",
       "      <td>2010</td>\n",
       "      <td>12</td>\n",
       "      <td>18</td>\n",
       "      <td>6.61</td>\n",
       "      <td>119090</td>\n",
       "      <td>970</td>\n",
       "      <td>89128</td>\n",
       "      <td>3</td>\n",
       "    </tr>\n",
       "    <tr>\n",
       "      <th>1</th>\n",
       "      <td>304721</td>\n",
       "      <td>1</td>\n",
       "      <td>730</td>\n",
       "      <td>249</td>\n",
       "      <td>786</td>\n",
       "      <td>476</td>\n",
       "      <td>130</td>\n",
       "      <td>23.76</td>\n",
       "      <td>52</td>\n",
       "      <td>2017</td>\n",
       "      <td>4</td>\n",
       "      <td>25</td>\n",
       "      <td>0.26</td>\n",
       "      <td>117991</td>\n",
       "      <td>500</td>\n",
       "      <td>49644</td>\n",
       "      <td>0</td>\n",
       "    </tr>\n",
       "    <tr>\n",
       "      <th>2</th>\n",
       "      <td>412317</td>\n",
       "      <td>0</td>\n",
       "      <td>300</td>\n",
       "      <td>450</td>\n",
       "      <td>419</td>\n",
       "      <td>153</td>\n",
       "      <td>211</td>\n",
       "      <td>22.68</td>\n",
       "      <td>42</td>\n",
       "      <td>2017</td>\n",
       "      <td>3</td>\n",
       "      <td>27</td>\n",
       "      <td>0.34</td>\n",
       "      <td>161045</td>\n",
       "      <td>674</td>\n",
       "      <td>40501</td>\n",
       "      <td>2</td>\n",
       "    </tr>\n",
       "    <tr>\n",
       "      <th>3</th>\n",
       "      <td>621375</td>\n",
       "      <td>0</td>\n",
       "      <td>118</td>\n",
       "      <td>497</td>\n",
       "      <td>882</td>\n",
       "      <td>608</td>\n",
       "      <td>201</td>\n",
       "      <td>41.70</td>\n",
       "      <td>43</td>\n",
       "      <td>2003</td>\n",
       "      <td>2</td>\n",
       "      <td>25</td>\n",
       "      <td>14.43</td>\n",
       "      <td>142616</td>\n",
       "      <td>420</td>\n",
       "      <td>46321</td>\n",
       "      <td>0</td>\n",
       "    </tr>\n",
       "    <tr>\n",
       "      <th>4</th>\n",
       "      <td>787549</td>\n",
       "      <td>0</td>\n",
       "      <td>335</td>\n",
       "      <td>95</td>\n",
       "      <td>495</td>\n",
       "      <td>450</td>\n",
       "      <td>432</td>\n",
       "      <td>22.39</td>\n",
       "      <td>58</td>\n",
       "      <td>2016</td>\n",
       "      <td>10</td>\n",
       "      <td>11</td>\n",
       "      <td>0.79</td>\n",
       "      <td>135706</td>\n",
       "      <td>992</td>\n",
       "      <td>99709</td>\n",
       "      <td>3</td>\n",
       "    </tr>\n",
       "    <tr>\n",
       "      <th>...</th>\n",
       "      <td>...</td>\n",
       "      <td>...</td>\n",
       "      <td>...</td>\n",
       "      <td>...</td>\n",
       "      <td>...</td>\n",
       "      <td>...</td>\n",
       "      <td>...</td>\n",
       "      <td>...</td>\n",
       "      <td>...</td>\n",
       "      <td>...</td>\n",
       "      <td>...</td>\n",
       "      <td>...</td>\n",
       "      <td>...</td>\n",
       "      <td>...</td>\n",
       "      <td>...</td>\n",
       "      <td>...</td>\n",
       "      <td>...</td>\n",
       "    </tr>\n",
       "    <tr>\n",
       "      <th>994</th>\n",
       "      <td>172440</td>\n",
       "      <td>1</td>\n",
       "      <td>183</td>\n",
       "      <td>867</td>\n",
       "      <td>795</td>\n",
       "      <td>252</td>\n",
       "      <td>297</td>\n",
       "      <td>28.61</td>\n",
       "      <td>73</td>\n",
       "      <td>2017</td>\n",
       "      <td>6</td>\n",
       "      <td>21</td>\n",
       "      <td>0.10</td>\n",
       "      <td>84585</td>\n",
       "      <td>91</td>\n",
       "      <td>91051</td>\n",
       "      <td>3</td>\n",
       "    </tr>\n",
       "    <tr>\n",
       "      <th>995</th>\n",
       "      <td>568435</td>\n",
       "      <td>0</td>\n",
       "      <td>107</td>\n",
       "      <td>296</td>\n",
       "      <td>774</td>\n",
       "      <td>498</td>\n",
       "      <td>891</td>\n",
       "      <td>32.01</td>\n",
       "      <td>59</td>\n",
       "      <td>2008</td>\n",
       "      <td>1</td>\n",
       "      <td>7</td>\n",
       "      <td>9.56</td>\n",
       "      <td>72930</td>\n",
       "      <td>633</td>\n",
       "      <td>53149</td>\n",
       "      <td>0</td>\n",
       "    </tr>\n",
       "    <tr>\n",
       "      <th>996</th>\n",
       "      <td>597409</td>\n",
       "      <td>1</td>\n",
       "      <td>620</td>\n",
       "      <td>487</td>\n",
       "      <td>753</td>\n",
       "      <td>572</td>\n",
       "      <td>339</td>\n",
       "      <td>30.48</td>\n",
       "      <td>84</td>\n",
       "      <td>2010</td>\n",
       "      <td>3</td>\n",
       "      <td>5</td>\n",
       "      <td>7.40</td>\n",
       "      <td>121949</td>\n",
       "      <td>498</td>\n",
       "      <td>49325</td>\n",
       "      <td>0</td>\n",
       "    </tr>\n",
       "    <tr>\n",
       "      <th>997</th>\n",
       "      <td>359608</td>\n",
       "      <td>0</td>\n",
       "      <td>339</td>\n",
       "      <td>206</td>\n",
       "      <td>370</td>\n",
       "      <td>59</td>\n",
       "      <td>954</td>\n",
       "      <td>59.88</td>\n",
       "      <td>50</td>\n",
       "      <td>2001</td>\n",
       "      <td>2</td>\n",
       "      <td>20</td>\n",
       "      <td>16.44</td>\n",
       "      <td>82734</td>\n",
       "      <td>139</td>\n",
       "      <td>95381</td>\n",
       "      <td>3</td>\n",
       "    </tr>\n",
       "    <tr>\n",
       "      <th>998</th>\n",
       "      <td>803426</td>\n",
       "      <td>0</td>\n",
       "      <td>659</td>\n",
       "      <td>259</td>\n",
       "      <td>910</td>\n",
       "      <td>408</td>\n",
       "      <td>600</td>\n",
       "      <td>30.21</td>\n",
       "      <td>48</td>\n",
       "      <td>2012</td>\n",
       "      <td>3</td>\n",
       "      <td>15</td>\n",
       "      <td>5.37</td>\n",
       "      <td>66854</td>\n",
       "      <td>21</td>\n",
       "      <td>6910</td>\n",
       "      <td>1</td>\n",
       "    </tr>\n",
       "  </tbody>\n",
       "</table>\n",
       "<p>994 rows × 17 columns</p>\n",
       "</div>"
      ],
      "text/plain": [
       "     Emp ID  Gender  E Mail  Father's Name  Mother's Name  \\\n",
       "0    850297       0     879            810            510   \n",
       "1    304721       1     730            249            786   \n",
       "2    412317       0     300            450            419   \n",
       "3    621375       0     118            497            882   \n",
       "4    787549       0     335             95            495   \n",
       "..      ...     ...     ...            ...            ...   \n",
       "994  172440       1     183            867            795   \n",
       "995  568435       0     107            296            774   \n",
       "996  597409       1     620            487            753   \n",
       "997  359608       0     339            206            370   \n",
       "998  803426       0     659            259            910   \n",
       "\n",
       "     Mother's Maiden Name  Date of Birth  Age in Yrs.  Weight in Kgs.  \\\n",
       "0                     262            260        45.66              44   \n",
       "1                     476            130        23.76              52   \n",
       "2                     153            211        22.68              42   \n",
       "3                     608            201        41.70              43   \n",
       "4                     450            432        22.39              58   \n",
       "..                    ...            ...          ...             ...   \n",
       "994                   252            297        28.61              73   \n",
       "995                   498            891        32.01              59   \n",
       "996                   572            339        30.48              84   \n",
       "997                    59            954        59.88              50   \n",
       "998                   408            600        30.21              48   \n",
       "\n",
       "     Year of Joining  Month of Joining  Day of Joining  \\\n",
       "0               2010                12              18   \n",
       "1               2017                 4              25   \n",
       "2               2017                 3              27   \n",
       "3               2003                 2              25   \n",
       "4               2016                10              11   \n",
       "..               ...               ...             ...   \n",
       "994             2017                 6              21   \n",
       "995             2008                 1               7   \n",
       "996             2010                 3               5   \n",
       "997             2001                 2              20   \n",
       "998             2012                 3              15   \n",
       "\n",
       "     Age in Company (Years)  Salary  Phone No.     Zip  Region  \n",
       "0                      6.61  119090         970  89128       3  \n",
       "1                      0.26  117991         500  49644       0  \n",
       "2                      0.34  161045         674  40501       2  \n",
       "3                     14.43  142616         420  46321       0  \n",
       "4                      0.79  135706         992  99709       3  \n",
       "..                      ...     ...         ...    ...     ...  \n",
       "994                    0.10   84585          91  91051       3  \n",
       "995                    9.56   72930         633  53149       0  \n",
       "996                    7.40  121949         498  49325       0  \n",
       "997                   16.44   82734         139  95381       3  \n",
       "998                    5.37   66854          21   6910       1  \n",
       "\n",
       "[994 rows x 17 columns]"
      ]
     },
     "execution_count": 70,
     "metadata": {},
     "output_type": "execute_result"
    }
   ],
   "source": [
    "df_new"
   ]
  },
  {
   "cell_type": "code",
   "execution_count": 71,
   "metadata": {},
   "outputs": [
    {
     "data": {
      "text/plain": [
       "(1000, 17)"
      ]
     },
     "execution_count": 71,
     "metadata": {},
     "output_type": "execute_result"
    }
   ],
   "source": [
    "df.shape"
   ]
  },
  {
   "cell_type": "code",
   "execution_count": 72,
   "metadata": {},
   "outputs": [
    {
     "data": {
      "text/plain": [
       "(994, 17)"
      ]
     },
     "execution_count": 72,
     "metadata": {},
     "output_type": "execute_result"
    }
   ],
   "source": [
    "df_new.shape"
   ]
  },
  {
   "cell_type": "code",
   "execution_count": 73,
   "metadata": {},
   "outputs": [],
   "source": [
    "x=df_new.iloc[:,:-1]\n",
    "y=df_new.iloc[:,-1]"
   ]
  },
  {
   "cell_type": "markdown",
   "metadata": {},
   "source": [
    "# scaling the data"
   ]
  },
  {
   "cell_type": "code",
   "execution_count": 74,
   "metadata": {},
   "outputs": [],
   "source": [
    "from sklearn.preprocessing import StandardScaler\n",
    "sc= StandardScaler()\n",
    "scaled=sc.fit_transform(x)"
   ]
  },
  {
   "cell_type": "code",
   "execution_count": 75,
   "metadata": {},
   "outputs": [
    {
     "name": "stdout",
     "output_type": "stream",
     "text": [
      "best accuracy 15.394658817630036found on random_state 53\n"
     ]
    }
   ],
   "source": [
    "#finding the best random state\n",
    "from sklearn.model_selection import train_test_split\n",
    "from sklearn.linear_model import LinearRegression\n",
    "from sklearn.model_selection import cross_val_score\n",
    "from sklearn.metrics import r2_score\n",
    "\n",
    "\n",
    "best_rstate=0\n",
    "accu=0\n",
    "for i in range(30,200):\n",
    "    x_train,x_test,y_train,y_test = train_test_split(x,y,test_size=.25,random_state=i)\n",
    "    mod=LinearRegression()\n",
    "    mod.fit(x_train,y_train)\n",
    "    y_pred=mod.predict(x_test)\n",
    "    tempaccu=r2_score(y_test,y_pred)\n",
    "    if tempaccu>accu:\n",
    "        accu=tempaccu\n",
    "        best_rstate=i\n",
    "        \n",
    "print(f\"best accuracy {accu*100}found on random_state {best_rstate}\")\n",
    "    "
   ]
  },
  {
   "cell_type": "code",
   "execution_count": 76,
   "metadata": {},
   "outputs": [],
   "source": [
    "#spliting the data into training and testing\n",
    "from sklearn.model_selection import train_test_split\n",
    "x_train,x_test,y_train,y_test = train_test_split(x,y,test_size=0.2,random_state=92)"
   ]
  },
  {
   "cell_type": "markdown",
   "metadata": {},
   "source": [
    "# finding the best model"
   ]
  },
  {
   "cell_type": "code",
   "execution_count": 77,
   "metadata": {},
   "outputs": [
    {
     "name": "stdout",
     "output_type": "stream",
     "text": [
      "accuracy=9.533978673009901, Cross_val_score = 7.256813413346948 $ difference = 2.2771652596629535\n"
     ]
    }
   ],
   "source": [
    "from sklearn.linear_model import LinearRegression\n",
    "LR=LinearRegression()\n",
    "LR.fit(x_train,y_train)\n",
    "y_pred=LR.predict(x_test)\n",
    "r2score=r2_score(y_test,y_pred)\n",
    "cvscore=cross_val_score(LinearRegression(),x_train,y_train,cv=5).mean()\n",
    "print(f\"accuracy={r2score*100}, Cross_val_score = {cvscore*100} $ difference = {(r2score*100)-(cvscore*100)}\")"
   ]
  },
  {
   "cell_type": "code",
   "execution_count": 78,
   "metadata": {},
   "outputs": [
    {
     "name": "stdout",
     "output_type": "stream",
     "text": [
      "accuracy=99.53600434335887, Cross_val_score = 99.0791454520152 $ difference = 0.4568588913436713\n"
     ]
    }
   ],
   "source": [
    "#randomo forestregressor\n",
    "from sklearn.ensemble import RandomForestRegressor\n",
    "RF=RandomForestRegressor()\n",
    "RF.fit(x_train,y_train)\n",
    "y_pred=RF.predict(x_test)\n",
    "r2score=r2_score(y_test,y_pred)\n",
    "cvscore=cross_val_score(RandomForestRegressor(),x_train,y_train,cv=5).mean()\n",
    "print(f\"accuracy={r2score*100}, Cross_val_score = {cvscore*100} $ difference = {(r2score*100)-(cvscore*100)}\")\n",
    "\n"
   ]
  },
  {
   "cell_type": "code",
   "execution_count": 79,
   "metadata": {},
   "outputs": [
    {
     "name": "stdout",
     "output_type": "stream",
     "text": [
      "accuracy=98.40873812338813, Cross_val_score = 98.53790818701768 $ difference = -0.12917006362954453\n"
     ]
    }
   ],
   "source": [
    "#adaBoostRegessor\n",
    "from sklearn.ensemble import AdaBoostRegressor\n",
    "ADB=AdaBoostRegressor()\n",
    "ADB.fit(x_train,y_train)\n",
    "y_pred=ADB.predict(x_test)\n",
    "r2score=r2_score(y_test,y_pred)\n",
    "cvscore=cross_val_score(AdaBoostRegressor(),x_train,y_train,cv=5).mean()\n",
    "print(f\"accuracy={r2score*100}, Cross_val_score = {cvscore*100} $ difference = {(r2score*100)-(cvscore*100)}\")"
   ]
  },
  {
   "cell_type": "code",
   "execution_count": 80,
   "metadata": {},
   "outputs": [
    {
     "name": "stdout",
     "output_type": "stream",
     "text": [
      "accuracy=-1.225139898845571e+43, Cross_val_score = -1.744734544273478e+42 $ difference = -1.0506664444182231e+43\n"
     ]
    }
   ],
   "source": [
    "#SGDRegressor\n",
    "from sklearn.linear_model import SGDRegressor\n",
    "SGD=SGDRegressor()\n",
    "SGD.fit(x_train,y_train)\n",
    "y_pred=SGD.predict(x_test)\n",
    "r2score=r2_score(y_test,y_pred)\n",
    "cvscore=cross_val_score(SGDRegressor(),x_train,y_train,cv=5).mean()\n",
    "print(f\"accuracy={r2score*100}, Cross_val_score = {cvscore*100} $ difference = {(r2score*100)-(cvscore*100)}\")"
   ]
  },
  {
   "cell_type": "raw",
   "metadata": {},
   "source": [
    "random forest and adaboost model are best performing model with almost same accuracy and cross validation.we are chossing random forest model"
   ]
  },
  {
   "cell_type": "markdown",
   "metadata": {},
   "source": [
    "# hyperparameter tuning"
   ]
  },
  {
   "cell_type": "code",
   "execution_count": 81,
   "metadata": {},
   "outputs": [],
   "source": [
    "#crearting parameter list to pass Gridsearchcv\n",
    "parameters = {'max_iter': [500,700,900,1100,1300,1500],\n",
    "              'alpha': [0.0001,0.001,0.01,1,10,100],\n",
    "              'penalty':['elasticnet','l1','l2']}"
   ]
  },
  {
   "cell_type": "code",
   "execution_count": 82,
   "metadata": {},
   "outputs": [
    {
     "name": "stdout",
     "output_type": "stream",
     "text": [
      "Final accuracy: -2.969636716468653e+41\n"
     ]
    }
   ],
   "source": [
    "from sklearn.model_selection import GridSearchCV\n",
    "\n",
    "GCV=GridSearchCV(SGDRegressor(),parameters,cv=5,scoring='r2')\n",
    "GCV.fit(x_train,y_train)\n",
    "GCV.best_estimator_\n",
    "GCV_pred=GCV.best_estimator_.predict(x_test)\n",
    "print('Final accuracy:',r2_score(y_test,GCV_pred)*100)"
   ]
  },
  {
   "cell_type": "code",
   "execution_count": null,
   "metadata": {},
   "outputs": [],
   "source": []
  }
 ],
 "metadata": {
  "kernelspec": {
   "display_name": "Python 3",
   "language": "python",
   "name": "python3"
  },
  "language_info": {
   "codemirror_mode": {
    "name": "ipython",
    "version": 3
   },
   "file_extension": ".py",
   "mimetype": "text/x-python",
   "name": "python",
   "nbconvert_exporter": "python",
   "pygments_lexer": "ipython3",
   "version": "3.8.3"
  }
 },
 "nbformat": 4,
 "nbformat_minor": 4
}
